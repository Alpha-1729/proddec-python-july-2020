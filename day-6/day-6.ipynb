{
 "cells": [
  {
   "cell_type": "markdown",
   "metadata": {},
   "source": [
    "#  PRODDEC PYTHON DAY 6"
   ]
  },
  {
   "cell_type": "markdown",
   "metadata": {},
   "source": [
    "# Recursive Function Explanation."
   ]
  },
  {
   "cell_type": "code",
   "execution_count": 2,
   "metadata": {},
   "outputs": [
    {
     "name": "stdout",
     "output_type": "stream",
     "text": [
      "Enter a number to get the factorial: 6\n",
      "current number:  6\n",
      "current number:  5\n",
      "current number:  4\n",
      "current number:  3\n",
      "current number:  2\n",
      "720\n"
     ]
    }
   ],
   "source": [
    "def fact(num):\n",
    "    if num==1: \n",
    "        return 1\n",
    "    else:\n",
    "        print(\"current number: \",num)\n",
    "        return(num*fact(num-1))\n",
    "    \n",
    "num=int(input(\"Enter a number to get the factorial: \"))\n",
    "print(fact(num))"
   ]
  },
  {
   "cell_type": "markdown",
   "metadata": {},
   "source": [
    "# Webbrowser module"
   ]
  },
  {
   "cell_type": "code",
   "execution_count": 12,
   "metadata": {},
   "outputs": [
    {
     "data": {
      "text/plain": [
       "True"
      ]
     },
     "execution_count": 12,
     "metadata": {},
     "output_type": "execute_result"
    }
   ],
   "source": [
    "\"\"\"\n",
    "Webbrowser module is used to open a particular\n",
    "webpage using our python program.\n",
    "It opens webpage in our default web browser.\n",
    "\"\"\"\n",
    "import webbrowser as wb # wb becomes an alias for webbrowser module\n",
    "wb.open(\"https://www.instagram.com/proddec\")"
   ]
  },
  {
   "cell_type": "markdown",
   "metadata": {},
   "source": [
    "# time.time() example in real scenario."
   ]
  },
  {
   "cell_type": "code",
   "execution_count": 17,
   "metadata": {},
   "outputs": [
    {
     "name": "stdout",
     "output_type": "stream",
     "text": [
      "Sum using generator:  49999995000000\n",
      "Sum using list:  49999995000000\n",
      "Time taken by generator:  2.106792449951172 sec\n",
      "Time taken by list:  2.2437362670898438 sec\n"
     ]
    }
   ],
   "source": [
    "import time\n",
    "sum1=sum2=0  # Variable for storing sum.\n",
    "\n",
    "# Find sum using the generator.\n",
    "t1=time.time()\n",
    "# Creating a generator using generator comrehension.\n",
    "gen=(x for x in range(1,10000000)) \n",
    "for i in gen:                 # Iterating through generator.\n",
    "    sum1+=i                   # Finding sum of numbers from 1 to 9999999.    \n",
    "t2=time.time()\n",
    "print(\"Sum using generator: \",sum1)\n",
    "\n",
    "\n",
    "# Find sum using the list comprehension.\n",
    "t3=time.time()\n",
    "number_list=[x for x in range(1,10000000)] # List comprehension.\n",
    "for i in number_list:             # Iterating through list\n",
    "    sum2+=i                         # Finding sum of numbers from 1 to 9999999\n",
    "t4=time.time()\n",
    "print(\"Sum using list: \",sum2) \n",
    "\n",
    "# Time required to run generator code\n",
    "print(\"Time taken by generator: \",t2-t1,\"sec\")\n",
    "\n",
    "# Time required to run list code\n",
    "print(\"Time taken by list: \",t4-t3,\"sec\")\n",
    "# We can see that even though the results are same in both the operations.\n",
    "# The time taken is different.\n",
    "# A programmer always uses a code that runs faster."
   ]
  },
  {
   "cell_type": "markdown",
   "metadata": {},
   "source": [
    "# List comprehension example"
   ]
  },
  {
   "cell_type": "code",
   "execution_count": 19,
   "metadata": {},
   "outputs": [
    {
     "name": "stdout",
     "output_type": "stream",
     "text": [
      "[6, 7, 8]\n"
     ]
    }
   ],
   "source": [
    "# Without list comprehension\n",
    "\n",
    "list1=[1,2,3,4,5,6,7,8]\n",
    "\n",
    "\n",
    "# Suppose we need to create another list from list1 such that\n",
    "# The new list contains only elements greater than 5.\n",
    "\n",
    "new_list=[]              # Defining an empty list\n",
    "for element in list1:\n",
    "    if element>5:\n",
    "        new_list.append(element)\n",
    "print(new_list)        "
   ]
  },
  {
   "cell_type": "code",
   "execution_count": 20,
   "metadata": {},
   "outputs": [
    {
     "name": "stdout",
     "output_type": "stream",
     "text": [
      "[6, 7, 8]\n"
     ]
    }
   ],
   "source": [
    "# Using list comprehension\n",
    "list1=[1,2,3,4,5,6,7,8]\n",
    "\n",
    "new_list=[element for element in list1 if element>5]\n",
    "print(new_list)\n",
    "\n",
    "\n",
    "# We can see that the results are exactly the same.\n",
    "# However we have written significantly lesser code.\n",
    "# This is an advantage of using list comprehension in python."
   ]
  },
  {
   "cell_type": "code",
   "execution_count": 21,
   "metadata": {},
   "outputs": [
    {
     "name": "stdout",
     "output_type": "stream",
     "text": [
      "['p', 'r', 'o', 'd', 'd', 'e', 'c']\n"
     ]
    }
   ],
   "source": [
    "# Another example of list comprehension\n",
    "string1=\"proddec\"\n",
    "lst=[char for char in string1]\n",
    "print(lst)"
   ]
  },
  {
   "cell_type": "markdown",
   "metadata": {},
   "source": [
    "# Nested if else example"
   ]
  },
  {
   "cell_type": "code",
   "execution_count": 22,
   "metadata": {},
   "outputs": [
    {
     "name": "stdout",
     "output_type": "stream",
     "text": [
      "Enter your age: 44\n",
      "Welcome, you are of the right age!\n"
     ]
    }
   ],
   "source": [
    "age = int(input('Enter your age: '))\n",
    "if age > 21: \n",
    "    if age > 65: \n",
    "        print('You are overaged for the job')\n",
    "    else:\n",
    "        print('Welcome, you are of the right age!')\n",
    "else:\n",
    "    print('You are too young for this job!')"
   ]
  },
  {
   "cell_type": "markdown",
   "metadata": {},
   "source": [
    "# More on tuples"
   ]
  },
  {
   "cell_type": "code",
   "execution_count": 23,
   "metadata": {},
   "outputs": [
    {
     "name": "stdout",
     "output_type": "stream",
     "text": [
      "4\n",
      "(1, 2, 3)\n",
      "(1, 2, 3, 4, 5, 6, 7, 8, 9)\n"
     ]
    }
   ],
   "source": [
    "# To create a tuple\n",
    "tup1=(1,2,3,4,5,6)\n",
    "\n",
    "# We can access each element using indexing.\n",
    "print(tup1[3])\n",
    "\n",
    "# However tuples are immutable.\n",
    "# ie, tup1[4]=20 is an invalid command\n",
    "\n",
    "# We can use slicing operation on tuples\n",
    "print(tup1[:3])\n",
    "\n",
    "# We can add 2 tuples\n",
    "tup2=(7,8,9)\n",
    "tup3=tup1 + tup2\n",
    "print(tup3)"
   ]
  },
  {
   "cell_type": "markdown",
   "metadata": {},
   "source": [
    "# Frequently used modules in python"
   ]
  },
  {
   "cell_type": "code",
   "execution_count": null,
   "metadata": {},
   "outputs": [],
   "source": [
    "# math\n",
    "# os\n",
    "# sys\n",
    "# time"
   ]
  }
 ],
 "metadata": {
  "kernelspec": {
   "display_name": "Python 3.6.6 64-bit",
   "language": "python",
   "name": "python36664bit55ef76e89a7a4ab497db6aec0bf721a3"
  },
  "language_info": {
   "codemirror_mode": {
    "name": "ipython",
    "version": 3
   },
   "file_extension": ".py",
   "mimetype": "text/x-python",
   "name": "python",
   "nbconvert_exporter": "python",
   "pygments_lexer": "ipython3",
   "version": "3.6.6"
  }
 },
 "nbformat": 4,
 "nbformat_minor": 2
}
