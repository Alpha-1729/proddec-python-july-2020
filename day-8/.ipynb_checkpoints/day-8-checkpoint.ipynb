{
 "cells": [
  {
   "cell_type": "markdown",
   "metadata": {},
   "source": [
    "# PRODDEC PYTHON DAY 8"
   ]
  },
  {
   "cell_type": "markdown",
   "metadata": {},
   "source": [
    "## Common terms used in opencv"
   ]
  },
  {
   "cell_type": "markdown",
   "metadata": {},
   "source": [
    "### Pixel"
   ]
  },
  {
   "cell_type": "code",
   "execution_count": null,
   "metadata": {},
   "outputs": [],
   "source": [
    "\"\"\"\n",
    "A pixel is generally thought of as the smallest single component of a digital image\n",
    "Images is made of pixels.\n",
    "Images resolution are sometimes represented using pixel.\n",
    "Example-1:\n",
    "1024x720 resolution image\n",
    "1024 pixel in row 720 pixel in column.\n",
    "\"\"\""
   ]
  },
  {
   "cell_type": "markdown",
   "metadata": {},
   "source": [
    "### Megapixel"
   ]
  },
  {
   "cell_type": "code",
   "execution_count": null,
   "metadata": {},
   "outputs": [],
   "source": [
    "\"\"\"\n",
    "A megapixel (MP) is a million pixels; the term is used\n",
    "not only for the number of pixels in an image but also\n",
    "to express the number of image sensor elements of digital\n",
    "cameras or the number of display elements of digital\n",
    "displays. For example, a camera that makes a 2048 × 1536 pixel\n",
    "image (3,145,728 finished image pixels) typically uses\n",
    "a few extra rows and columns of sensor elements and is\n",
    "commonly said to have \"3.2 megapixels\" or \"3.4 megapixels\",\n",
    "depending on whether the number reported is the \"effective\"\n",
    "or the \"total\" pixel count\n",
    "\"\"\""
   ]
  },
  {
   "cell_type": "markdown",
   "metadata": {},
   "source": [
    "# Image classification"
   ]
  },
  {
   "cell_type": "markdown",
   "metadata": {},
   "source": [
    "## Binary Image"
   ]
  },
  {
   "cell_type": "code",
   "execution_count": null,
   "metadata": {},
   "outputs": [],
   "source": [
    "# Each pixel can have only two values -> 1/0 OR 255/0\n",
    "# Also called 1 bit image.\n",
    "# 2^1(2) combintion of color is possible.\n",
    "# Each square represent a pixel."
   ]
  },
  {
   "cell_type": "markdown",
   "metadata": {},
   "source": [
    "<img src=\"binary-image.png\" style=\"height:300px;width:100%\">"
   ]
  },
  {
   "cell_type": "markdown",
   "metadata": {},
   "source": [
    "# Grey Image"
   ]
  },
  {
   "cell_type": "code",
   "execution_count": 2,
   "metadata": {},
   "outputs": [],
   "source": [
    "# Each pixel can have only 256 values -> 0-255\n",
    "# It is also called 8 bit image.\n",
    "# 2^8 combination of values for each pixel.\n",
    "# Each square represent a pixel."
   ]
  },
  {
   "cell_type": "markdown",
   "metadata": {},
   "source": [
    "### Example 1"
   ]
  },
  {
   "cell_type": "markdown",
   "metadata": {},
   "source": [
    "<img src=\"grey-image-1.jpg\" style=\"height:500px;width:400px\">"
   ]
  },
  {
   "cell_type": "markdown",
   "metadata": {},
   "source": [
    "## Example 2"
   ]
  },
  {
   "cell_type": "markdown",
   "metadata": {},
   "source": [
    "<img src=\"grey-image-2.jpg\" style=\"height:500px;width:400px\">"
   ]
  },
  {
   "cell_type": "markdown",
   "metadata": {},
   "source": [
    "# RGB Image (3 channel image)"
   ]
  },
  {
   "cell_type": "code",
   "execution_count": null,
   "metadata": {},
   "outputs": [],
   "source": [
    "# Each pixel can have only 16 million values -> 256*256*256=16777216\n",
    "# It is also called 16M color image.\n",
    "# 2^8 * 2^8 * 2^8 combination of values for each pixel.\n",
    "# Each square represent a pixel."
   ]
  },
  {
   "cell_type": "markdown",
   "metadata": {},
   "source": [
    "<img src=\"color-image.jpg\" style=\"height:360px;width:680px\">"
   ]
  },
  {
   "cell_type": "markdown",
   "metadata": {},
   "source": [
    "## Pixel representation in color image"
   ]
  },
  {
   "cell_type": "markdown",
   "metadata": {},
   "source": [
    "<img src=\"pixel-color-image.jpg\" style=\"height:360px;width:680px\">"
   ]
  },
  {
   "cell_type": "markdown",
   "metadata": {},
   "source": [
    "# RGBA Color image"
   ]
  },
  {
   "cell_type": "code",
   "execution_count": null,
   "metadata": {},
   "outputs": [],
   "source": [
    "\"\"\"\n",
    "RGBA stands for red green blue alpha. While it is sometimes described\n",
    "as a color space, it is actually the three-channel RGB color model\n",
    "supplemented with a fourth alpha channel. Alpha indicates how opaque\n",
    "each pixel is and allows an image to be combined over others using\n",
    "alpha compositing, with transparent areas and anti-aliasing\n",
    "of the edges of opaque regions\n",
    "\"\"\""
   ]
  },
  {
   "cell_type": "code",
   "execution_count": null,
   "metadata": {},
   "outputs": [],
   "source": [
    "# Alpha represent the opacity.\n",
    "# Each pixel can have a value like [R,G,B,A].\n",
    "# Range of Alpha is [0-1].\n",
    "# RGBA looks like RGB image sometimes.\n",
    "# I think Infinite color combination is posiible for each pixel.\n",
    "# Below image represent the different value of ALPHA for Red only in one pixel.\n",
    "# Similary for Green and Blue."
   ]
  },
  {
   "cell_type": "markdown",
   "metadata": {},
   "source": [
    "<img src=\"opacity.png\" style=\"height:200px;width:400px\">"
   ]
  },
  {
   "cell_type": "markdown",
   "metadata": {},
   "source": [
    "# How computer store images"
   ]
  },
  {
   "cell_type": "code",
   "execution_count": null,
   "metadata": {},
   "outputs": [],
   "source": [
    "# Computer store images using numbers."
   ]
  },
  {
   "cell_type": "markdown",
   "metadata": {},
   "source": [
    "## Storing a binary image using list of list"
   ]
  },
  {
   "cell_type": "markdown",
   "metadata": {},
   "source": [
    "\n",
    "<img src=\"binary_image.webp\" style=\"height:300px;width:100%\">"
   ]
  },
  {
   "cell_type": "markdown",
   "metadata": {},
   "source": [
    "## Storing a grey image using list of list"
   ]
  },
  {
   "cell_type": "markdown",
   "metadata": {},
   "source": [
    "<img src=\"imagematrix.png\" style=\"height:300px;width:100%\">"
   ]
  },
  {
   "cell_type": "markdown",
   "metadata": {},
   "source": [
    "## Storing a color image using the Three Dimensional list."
   ]
  },
  {
   "cell_type": "markdown",
   "metadata": {},
   "source": [
    "<img src=\"color-image-rep.jpg\" style=\"height:300px;width:100%\">"
   ]
  },
  {
   "cell_type": "markdown",
   "metadata": {},
   "source": [
    "# NOTE THIS POINT"
   ]
  },
  {
   "cell_type": "code",
   "execution_count": null,
   "metadata": {},
   "outputs": [],
   "source": [
    "# Add path according to your image file location.\n",
    "# I am only using relative path here."
   ]
  },
  {
   "cell_type": "markdown",
   "metadata": {},
   "source": [
    "# Reading an image using opencv"
   ]
  },
  {
   "cell_type": "code",
   "execution_count": 5,
   "metadata": {},
   "outputs": [
    {
     "name": "stdout",
     "output_type": "stream",
     "text": [
      "[[[ 35  54  39]\n",
      "  [ 33  52  37]\n",
      "  [ 29  47  34]\n",
      "  ...\n",
      "  [ 17  26  16]\n",
      "  [ 19  28  18]\n",
      "  [ 19  28  18]]\n",
      "\n",
      " [[ 30  51  36]\n",
      "  [ 29  50  35]\n",
      "  [ 27  48  33]\n",
      "  ...\n",
      "  [ 17  26  16]\n",
      "  [ 19  28  18]\n",
      "  [ 19  28  18]]\n",
      "\n",
      " [[ 28  52  34]\n",
      "  [ 28  52  34]\n",
      "  [ 28  52  34]\n",
      "  ...\n",
      "  [ 18  27  17]\n",
      "  [ 19  28  18]\n",
      "  [ 19  28  18]]\n",
      "\n",
      " ...\n",
      "\n",
      " [[141 141 101]\n",
      "  [141 142 102]\n",
      "  [134 140  99]\n",
      "  ...\n",
      "  [ 38  67  58]\n",
      "  [ 25  52  42]\n",
      "  [ 38  66  53]]\n",
      "\n",
      " [[154 152 112]\n",
      "  [153 153 113]\n",
      "  [148 151 112]\n",
      "  ...\n",
      "  [ 37  66  57]\n",
      "  [ 44  71  61]\n",
      "  [ 62  88  75]]\n",
      "\n",
      " [[151 149 109]\n",
      "  [151 151 111]\n",
      "  [146 149 110]\n",
      "  ...\n",
      "  [ 36  65  56]\n",
      "  [ 39  66  56]\n",
      "  [ 61  87  74]]]\n"
     ]
    }
   ],
   "source": [
    "# Opencv reads a color image in BGR format.\n",
    "import cv2\n",
    "img=cv2.imread(\"parrot.jpg\")\n",
    "print(img)\n",
    "\n",
    "# It shows the intensity of B,G,R of each pixel in 3D list."
   ]
  },
  {
   "cell_type": "markdown",
   "metadata": {},
   "source": [
    "# Getting the size of an image"
   ]
  },
  {
   "cell_type": "code",
   "execution_count": 7,
   "metadata": {},
   "outputs": [
    {
     "name": "stdout",
     "output_type": "stream",
     "text": [
      "504810 in bytes\n"
     ]
    }
   ],
   "source": [
    "# Opencv reads a color image in BGR format.\n",
    "import cv2\n",
    "img=cv2.imread(\"parrot.jpg\")\n",
    "print(img.size,\"in bytes\")\n"
   ]
  },
  {
   "cell_type": "markdown",
   "metadata": {},
   "source": [
    "# Getting the dimension of an image"
   ]
  },
  {
   "cell_type": "code",
   "execution_count": 10,
   "metadata": {},
   "outputs": [
    {
     "name": "stdout",
     "output_type": "stream",
     "text": [
      "(355, 474, 3)\n"
     ]
    }
   ],
   "source": [
    "# Opencv reads a color image in BGR format.\n",
    "import cv2\n",
    "img=cv2.imread(\"parrot.jpg\")\n",
    "print(img.shape)\n",
    "\n",
    "\n",
    "# Height,width,no of channels\n",
    "# Output is a tuple"
   ]
  },
  {
   "cell_type": "markdown",
   "metadata": {},
   "source": [
    "# Storing an image"
   ]
  },
  {
   "cell_type": "code",
   "execution_count": 12,
   "metadata": {},
   "outputs": [
    {
     "data": {
      "text/plain": [
       "True"
      ]
     },
     "execution_count": 12,
     "metadata": {},
     "output_type": "execute_result"
    }
   ],
   "source": [
    "# Opencv reads a color image in BGR format.\n",
    "import cv2\n",
    "img=cv2.imread(\"parrot.jpg\")\n",
    "cv2.imwrite(\"new-image.jpg\",img) # returns True/False."
   ]
  },
  {
   "cell_type": "markdown",
   "metadata": {},
   "source": [
    "# Reading and storing image as grey"
   ]
  },
  {
   "cell_type": "code",
   "execution_count": 18,
   "metadata": {},
   "outputs": [
    {
     "name": "stdout",
     "output_type": "stream",
     "text": [
      "158193000\n",
      "(6300, 8370, 3)\n"
     ]
    },
    {
     "data": {
      "text/plain": [
       "True"
      ]
     },
     "execution_count": 18,
     "metadata": {},
     "output_type": "execute_result"
    }
   ],
   "source": [
    "# Opencv reads a color image in BGR format.\n",
    "import cv2\n",
    "img=cv2.imread(\"parrot.jpg\",0) # Reading image as grey\n",
    "print(img.size)\n",
    "print(img.shape)\n",
    "cv2.imwrite(\"new-image.jpg\",img) # Returns True/False."
   ]
  },
  {
   "cell_type": "markdown",
   "metadata": {},
   "source": [
    "# Converting all images in a folder to grey"
   ]
  },
  {
   "cell_type": "code",
   "execution_count": 17,
   "metadata": {},
   "outputs": [
    {
     "name": "stdout",
     "output_type": "stream",
     "text": [
      "(266, 474) 10.jpg\n",
      "(375, 474) 11.jpg\n",
      "(329, 474) 12.jpg\n",
      "(296, 474) 13.jpg\n",
      "(315, 474) 14.jpg\n",
      "(266, 474) 2.jpg\n",
      "(266, 474) 20.jpg\n",
      "(320, 474) 3.jpg\n",
      "(355, 474) 4.jpg\n",
      "(316, 474) 5.jpg\n",
      "(695, 474) 6.jpg\n",
      "(491, 474) 7.jpg\n",
      "(315, 474) 8.jpg\n",
      "(316, 474) 9.jpg\n"
     ]
    }
   ],
   "source": [
    "import cv2,os\n",
    "def groupConvert():\n",
    "    img_names=os.listdir(\"images\")\n",
    "    for i in img_names:\n",
    "        img=cv2.imread(\".\\\\images\\\\{}\".format(i),0)\n",
    "        print(img.shape,i)\n",
    "        cv2.imwrite(\".\\\\grey\\\\{}\".format(i),img)\n",
    "if __name__==\"__main__\":\n",
    "    groupConvert()"
   ]
  },
  {
   "cell_type": "markdown",
   "metadata": {},
   "source": [
    "# Showing an image"
   ]
  },
  {
   "cell_type": "code",
   "execution_count": 20,
   "metadata": {},
   "outputs": [],
   "source": [
    "# Image will be showed for 5000 second.\n",
    "import cv2\n",
    "img=cv2.imread(\"parrot.jpg\",1)\n",
    "cv2.imshow(\"Parrot\",img) # Window name and image\n",
    "cv2.waitKey(5000) # Waiting for 5000 millisecond.\n",
    "cv2.destroyWindow(\"Parrot\")   # For closing the window"
   ]
  },
  {
   "cell_type": "code",
   "execution_count": null,
   "metadata": {},
   "outputs": [],
   "source": [
    "# Image will be closed when user press a key.\n",
    "import cv2\n",
    "img=cv2.imread(\"parrot.jpg\",1)\n",
    "cv2.imshow(\"Parrot\",img) # Window name and image\n",
    "cv2.waitKey(0) # Waiting for user to press a keyboard key.\n",
    "cv2.destroyWindow(\"Parrot\")  # For closing the window"
   ]
  },
  {
   "cell_type": "markdown",
   "metadata": {},
   "source": [
    "# Creating a image viewer using opencv"
   ]
  },
  {
   "cell_type": "code",
   "execution_count": 22,
   "metadata": {},
   "outputs": [
    {
     "name": "stdout",
     "output_type": "stream",
     "text": [
      "showed 10.jpg\n",
      "showed 11.jpg\n",
      "11.jpg deleted\n",
      "showed 12.jpg\n",
      "showed 13.jpg\n",
      "showed 14.jpg\n",
      "14.jpg deleted\n",
      "showed 20.jpg\n",
      "showed 3.jpg\n",
      "3.jpg deleted\n",
      "showed 4.jpg\n",
      "showed 5.jpg\n",
      "showed 6.jpg\n",
      "showed 7.jpg\n",
      "showed 8.jpg\n",
      "showed 9.jpg\n"
     ]
    }
   ],
   "source": [
    "# All my images are in the images folder.\n",
    "img_list=os.listdir(\"images\")   # Getting all images in that folder.\n",
    "for i in img_list:\n",
    "    img=cv2.imread(\".\\\\images\\\\{}\".format(i),1)\n",
    "    cv2.imshow(i,img)\n",
    "    print(\"showed\",i)\n",
    "    key=cv2.waitKey(0)          # To know which key is pressed in keyboard.\n",
    "    if key==100:                # 100 -> Pressing d button on keyboard.\n",
    "        os.remove(\".\\\\images\\\\{}\".format(i)) # Removing file\n",
    "        print(i,\"deleted\")\n",
    "    else:\n",
    "        pass\n",
    "   \n",
    "    cv2.destroyWindow(i) # Closing that window."
   ]
  },
  {
   "cell_type": "code",
   "execution_count": null,
   "metadata": {},
   "outputs": [],
   "source": []
  }
 ],
 "metadata": {
  "kernelspec": {
   "display_name": "Python 3.6.6 64-bit",
   "language": "python",
   "name": "python36664bit55ef76e89a7a4ab497db6aec0bf721a3"
  },
  "language_info": {
   "codemirror_mode": {
    "name": "ipython",
    "version": 3
   },
   "file_extension": ".py",
   "mimetype": "text/x-python",
   "name": "python",
   "nbconvert_exporter": "python",
   "pygments_lexer": "ipython3",
   "version": "3.6.6"
  }
 },
 "nbformat": 4,
 "nbformat_minor": 4
}
