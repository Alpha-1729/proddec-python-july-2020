{
 "cells": [
  {
   "cell_type": "markdown",
   "metadata": {},
   "source": [
    "# PRODDEC PYTHON DAY 4"
   ]
  },
  {
   "cell_type": "markdown",
   "metadata": {},
   "source": [
    "# Global variable and Local variable"
   ]
  },
  {
   "cell_type": "code",
   "execution_count": 13,
   "metadata": {},
   "outputs": [
    {
     "name": "stdout",
     "output_type": "stream",
     "text": [
      "125\n",
      "500\n",
      "Hello\n",
      "125\n"
     ]
    }
   ],
   "source": [
    "num1=125   \n",
    "print(num1) # Printing global variable.\n",
    "\n",
    "def sayHello():\n",
    "    num1=500   \n",
    "    print(num1)  # Printing local variable.\n",
    "    print(\"Hello\")\n",
    "\n",
    "sayHello()\n",
    "print(num1)  # This will print the global variable."
   ]
  },
  {
   "cell_type": "markdown",
   "metadata": {},
   "source": [
    "# Global keyword"
   ]
  },
  {
   "cell_type": "code",
   "execution_count": 1,
   "metadata": {},
   "outputs": [
    {
     "name": "stdout",
     "output_type": "stream",
     "text": [
      "125\n",
      "500\n",
      "Hello\n",
      "500\n"
     ]
    }
   ],
   "source": [
    "# Used to declare a global variable in the the function definition.\n",
    "num1=125   \n",
    "print(num1) # Printing global variable.\n",
    "\n",
    "def sayHello():\n",
    "    global num1\n",
    "    num1=500   \n",
    "    print(num1)  # Printing global variable.\n",
    "    print(\"Hello\")\n",
    "\n",
    "sayHello()\n",
    "print(num1)  # This will print the global variable."
   ]
  },
  {
   "cell_type": "markdown",
   "metadata": {},
   "source": [
    "# Recursion"
   ]
  },
  {
   "cell_type": "code",
   "execution_count": 22,
   "metadata": {},
   "outputs": [],
   "source": [
    "# Calling a function from itself is called recursion."
   ]
  },
  {
   "cell_type": "markdown",
   "metadata": {},
   "source": [
    "### Example 1"
   ]
  },
  {
   "cell_type": "code",
   "execution_count": 2,
   "metadata": {},
   "outputs": [
    {
     "name": "stdout",
     "output_type": "stream",
     "text": [
      "Hello 1\n",
      "Hello 2\n",
      "Hello 3\n",
      "Hello 4\n",
      "Hello 5\n",
      "Hello 6\n",
      "Hello 7\n",
      "Hello 8\n",
      "Hello 9\n",
      "Hello 10\n",
      "Session ended.\n"
     ]
    }
   ],
   "source": [
    "# For printing hello 10 times.\n",
    "count=1\n",
    "def callMe():\n",
    "    global count\n",
    "    print(\"Hello\",count)\n",
    "    count+=1\n",
    "    if count>10:\n",
    "        print(\"Session ended.\")\n",
    "    else:\n",
    "        callMe()\n",
    "callMe()"
   ]
  },
  {
   "cell_type": "markdown",
   "metadata": {},
   "source": [
    "### Example 2"
   ]
  },
  {
   "cell_type": "code",
   "execution_count": 3,
   "metadata": {},
   "outputs": [
    {
     "name": "stdout",
     "output_type": "stream",
     "text": [
      "Hello 1\n",
      "Hello 2\n",
      "Hello 3\n",
      "Hello 4\n",
      "Hello 5\n",
      "Hello 6\n",
      "Hello 7\n",
      "Hello 8\n",
      "Hello 9\n",
      "Hello 10\n",
      "Session ended.\n"
     ]
    }
   ],
   "source": [
    "# Calling a function from itself ->recursion\n",
    "# For priting the hello 10 times.\n",
    "# Using function argument.\n",
    "def callMe(count):\n",
    "    print(\"Hello\",count)\n",
    "    if count>9:\n",
    "        print(\"Session ended.\")\n",
    "    else:\n",
    "        callMe(count+1)\n",
    "callMe(1)"
   ]
  },
  {
   "cell_type": "markdown",
   "metadata": {},
   "source": [
    "# Loops"
   ]
  },
  {
   "cell_type": "code",
   "execution_count": null,
   "metadata": {},
   "outputs": [],
   "source": [
    "\"\"\"\n",
    "A loop statement allows us to execute a statement or\n",
    "group of statements multiple times.\n",
    "\"\"\""
   ]
  },
  {
   "cell_type": "markdown",
   "metadata": {},
   "source": [
    "## while loop"
   ]
  },
  {
   "cell_type": "code",
   "execution_count": null,
   "metadata": {},
   "outputs": [],
   "source": [
    "# While loop execute code, until condition is False.\n",
    "# Dont run this at home.\n",
    "# Print Hello for ever.\n",
    "while True:\n",
    "    print(\"Hello\")"
   ]
  },
  {
   "cell_type": "code",
   "execution_count": 4,
   "metadata": {},
   "outputs": [
    {
     "name": "stdout",
     "output_type": "stream",
     "text": [
      "1\n",
      "2\n",
      "3\n",
      "4\n",
      "5\n",
      "6\n",
      "7\n",
      "8\n",
      "9\n",
      "10\n"
     ]
    }
   ],
   "source": [
    "# Print upto 10\n",
    "counter=1\n",
    "while counter<=10:\n",
    "    print(counter)\n",
    "    counter+=1"
   ]
  },
  {
   "cell_type": "code",
   "execution_count": 5,
   "metadata": {},
   "outputs": [
    {
     "name": "stdout",
     "output_type": "stream",
     "text": [
      "Hello 1\n",
      "Hello 2\n",
      "Hello 3\n",
      "Hello 4\n",
      "Hello 5\n",
      "Hello 6\n",
      "Hello 7\n",
      "Hello 8\n",
      "Hello 9\n",
      "Hello 10\n"
     ]
    }
   ],
   "source": [
    "# Print hello 10 times.\n",
    "counter=1\n",
    "while counter<=10:\n",
    "    print(\"Hello\",counter)\n",
    "    counter+=1"
   ]
  },
  {
   "cell_type": "code",
   "execution_count": 6,
   "metadata": {},
   "outputs": [
    {
     "name": "stdout",
     "output_type": "stream",
     "text": [
      "ferrari\n",
      "bmw\n",
      "fiet\n",
      "honda\n",
      "jaguar\n",
      "ambassador\n"
     ]
    }
   ],
   "source": [
    "# Printing all items in a list.\n",
    "cars=[\"ferrari\",\"bmw\",\"fiet\",\"honda\",\"jaguar\",\"ambassador\"]\n",
    "\n",
    "counter=0\n",
    "while counter<len(cars):\n",
    "    print(cars[counter])\n",
    "    counter+=1"
   ]
  },
  {
   "cell_type": "code",
   "execution_count": 33,
   "metadata": {},
   "outputs": [
    {
     "name": "stdout",
     "output_type": "stream",
     "text": [
      "Enter your name: peter\n",
      "Enter your name: david\n",
      "Enter your name: james\n",
      "Enter your name: ram\n",
      "Enter your name: hari\n",
      "['peter', 'david', 'james', 'ram', 'hari']\n"
     ]
    }
   ],
   "source": [
    "# Five times getting input from the user\n",
    "counter=0\n",
    "nameList=[]         # Creating an empty list\n",
    "while counter<5:\n",
    "    name=input(\"Enter your name: \")\n",
    "    nameList.append(name)\n",
    "    counter+=1\n",
    "\n",
    "print(nameList)     # Priting the stored list.\n",
    "    "
   ]
  },
  {
   "cell_type": "markdown",
   "metadata": {},
   "source": [
    "# Break statement in loops"
   ]
  },
  {
   "cell_type": "code",
   "execution_count": 34,
   "metadata": {},
   "outputs": [
    {
     "name": "stdout",
     "output_type": "stream",
     "text": [
      "Enter your password: hello me\n",
      "hello me\n",
      "Enter your password: password\n",
      "password\n",
      "Enter your password: 12345678\n",
      "12345678\n",
      "Enter your password: peterdavidson\n",
      "peterdavidson\n",
      "Enter your password: killyou\n",
      "killyou\n",
      "Access Granted!!\n"
     ]
    }
   ],
   "source": [
    "# break allows to stop the loop execution.\n",
    "# Code for criginal password guessing system.\n",
    "originalPassword=\"killyou\"\n",
    "while True:\n",
    "    userPassword=input(\"Enter your password: \")\n",
    "    print(userPassword)\n",
    "    if userPassword==originalPassword:\n",
    "        print(\"Access Granted!!\")\n",
    "        break    # Exiting the while loop."
   ]
  },
  {
   "cell_type": "markdown",
   "metadata": {},
   "source": [
    "# Continue statement in Loops"
   ]
  },
  {
   "cell_type": "code",
   "execution_count": 7,
   "metadata": {},
   "outputs": [
    {
     "name": "stdout",
     "output_type": "stream",
     "text": [
      "1\n",
      "3\n",
      "5\n",
      "7\n",
      "9\n",
      "11\n",
      "13\n",
      "15\n",
      "17\n",
      "19\n"
     ]
    }
   ],
   "source": [
    "# continue keyword help to restart the loop again.\n",
    "# Printing all odd numbers upto 20\n",
    "counter=0\n",
    "while counter<20:\n",
    "    counter+=1\n",
    "    if counter%2==0:\n",
    "        continue\n",
    "    print(counter)"
   ]
  },
  {
   "cell_type": "markdown",
   "metadata": {},
   "source": [
    "# for loop"
   ]
  },
  {
   "cell_type": "code",
   "execution_count": 40,
   "metadata": {},
   "outputs": [
    {
     "name": "stdout",
     "output_type": "stream",
     "text": [
      "Hello 0\n",
      "Hello 1\n",
      "Hello 2\n",
      "Hello 3\n",
      "Hello 4\n",
      "Hello 5\n",
      "Hello 6\n",
      "Hello 7\n",
      "Hello 8\n",
      "Hello 9\n"
     ]
    }
   ],
   "source": [
    "# For loop help to run a block of code, particular number of times.\n",
    "for i in range(10):\n",
    "    print(\"Hello\",i)"
   ]
  },
  {
   "cell_type": "code",
   "execution_count": 43,
   "metadata": {},
   "outputs": [
    {
     "name": "stdout",
     "output_type": "stream",
     "text": [
      "Hello 10\n",
      "Hello 11\n",
      "Hello 12\n",
      "Hello 13\n",
      "Hello 14\n",
      "Hello 15\n",
      "Hello 16\n",
      "Hello 17\n",
      "Hello 18\n",
      "Hello 19\n"
     ]
    }
   ],
   "source": [
    "# Printing a range of numbers\n",
    "for i in range(10,20):\n",
    "    print(\"Hello\",i)"
   ]
  },
  {
   "cell_type": "code",
   "execution_count": 8,
   "metadata": {},
   "outputs": [
    {
     "name": "stdout",
     "output_type": "stream",
     "text": [
      "2\n",
      "4\n",
      "6\n",
      "8\n",
      "10\n",
      "12\n",
      "14\n",
      "16\n",
      "18\n",
      "20\n"
     ]
    }
   ],
   "source": [
    "# Printing the Even numbers upto 20\n",
    "for i in range(2,21,2):\n",
    "    print(i)"
   ]
  },
  {
   "cell_type": "code",
   "execution_count": 9,
   "metadata": {},
   "outputs": [
    {
     "name": "stdout",
     "output_type": "stream",
     "text": [
      "3\n",
      "6\n",
      "9\n",
      "12\n",
      "15\n",
      "18\n",
      "21\n",
      "24\n",
      "27\n",
      "30\n",
      "33\n",
      "36\n",
      "39\n"
     ]
    }
   ],
   "source": [
    "# Printing the multiples of 3 upto 40\n",
    "for i in range(3,41,3):\n",
    "    print(i)"
   ]
  },
  {
   "cell_type": "markdown",
   "metadata": {},
   "source": [
    "### Printing all items in a list."
   ]
  },
  {
   "cell_type": "code",
   "execution_count": 50,
   "metadata": {},
   "outputs": [
    {
     "name": "stdout",
     "output_type": "stream",
     "text": [
      "ferrari\n",
      "bmw\n",
      "fiet\n",
      "honda\n",
      "jaguar\n",
      "ambassador\n"
     ]
    }
   ],
   "source": [
    "# Method 1\n",
    "cars=[\"ferrari\",\"bmw\",\"fiet\",\"honda\",\"jaguar\",\"ambassador\"]\n",
    "for i in cars:\n",
    "    print(i)"
   ]
  },
  {
   "cell_type": "code",
   "execution_count": 51,
   "metadata": {},
   "outputs": [
    {
     "name": "stdout",
     "output_type": "stream",
     "text": [
      "ferrari\n",
      "bmw\n",
      "fiet\n",
      "honda\n",
      "jaguar\n",
      "ambassador\n"
     ]
    }
   ],
   "source": [
    "# Method 2\n",
    "cars=[\"ferrari\",\"bmw\",\"fiet\",\"honda\",\"jaguar\",\"ambassador\"]\n",
    "for i in range(len(cars)):\n",
    "    print(cars[i])\n"
   ]
  },
  {
   "cell_type": "code",
   "execution_count": 42,
   "metadata": {},
   "outputs": [
    {
     "name": "stdout",
     "output_type": "stream",
     "text": [
      "g\n",
      "i\n",
      "r\n",
      "a\n",
      "f\n",
      "f\n",
      "e\n"
     ]
    }
   ],
   "source": [
    "# Printing all the character in a string.\n",
    "animal=\"giraffe\"\n",
    "for i in animal:\n",
    "    print(i)"
   ]
  },
  {
   "cell_type": "markdown",
   "metadata": {},
   "source": [
    "# Break in for loops"
   ]
  },
  {
   "cell_type": "code",
   "execution_count": 49,
   "metadata": {},
   "outputs": [
    {
     "name": "stdout",
     "output_type": "stream",
     "text": [
      "0\n",
      "1\n",
      "2\n",
      "3\n",
      "4\n",
      "5\n"
     ]
    }
   ],
   "source": [
    "# Printing upto 5\n",
    "for i in range(20):\n",
    "    print(i)\n",
    "    if i==5:\n",
    "        break"
   ]
  },
  {
   "cell_type": "markdown",
   "metadata": {},
   "source": [
    "# Continue in for loops"
   ]
  },
  {
   "cell_type": "code",
   "execution_count": 10,
   "metadata": {
    "scrolled": true
   },
   "outputs": [
    {
     "name": "stdout",
     "output_type": "stream",
     "text": [
      "0\n",
      "1\n",
      "2\n",
      "3\n",
      "4\n",
      "6\n",
      "7\n",
      "8\n",
      "9\n",
      "10\n"
     ]
    }
   ],
   "source": [
    "# Skipping 5 in the a range of numbers.\n",
    "for i in range(11):\n",
    "    if i==5:\n",
    "        continue\n",
    "    print(i)"
   ]
  },
  {
   "cell_type": "code",
   "execution_count": null,
   "metadata": {},
   "outputs": [],
   "source": []
  }
 ],
 "metadata": {
  "kernelspec": {
   "display_name": "Python 3.6.6 64-bit",
   "language": "python",
   "name": "python36664bit55ef76e89a7a4ab497db6aec0bf721a3"
  },
  "language_info": {
   "codemirror_mode": {
    "name": "ipython",
    "version": 3
   },
   "file_extension": ".py",
   "mimetype": "text/x-python",
   "name": "python",
   "nbconvert_exporter": "python",
   "pygments_lexer": "ipython3",
   "version": "3.6.6"
  }
 },
 "nbformat": 4,
 "nbformat_minor": 4
}
