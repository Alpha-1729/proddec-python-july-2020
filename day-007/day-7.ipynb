{
 "cells": [
  {
   "cell_type": "markdown",
   "metadata": {},
   "source": [
    "# PRODDEC PYTHON DAY 7"
   ]
  },
  {
   "cell_type": "markdown",
   "metadata": {},
   "source": [
    "# pass keyword"
   ]
  },
  {
   "cell_type": "code",
   "execution_count": null,
   "metadata": {},
   "outputs": [],
   "source": [
    "\"\"\"\n",
    "The pass statement is used as a placeholder for future code.\n",
    "\n",
    "When the pass statement is executed, nothing happens,\n",
    "but you avoid getting an error when empty code is not allowed.\n",
    "\n",
    "Empty code is not allowed in loops, function definitions,\n",
    "class definitions, or in if statements.\n",
    "\"\"\""
   ]
  },
  {
   "cell_type": "code",
   "execution_count": null,
   "metadata": {},
   "outputs": [],
   "source": [
    "# Read the above paragraph carefully.\n",
    "\n",
    "# Example-1\n",
    "def sayHello():\n",
    "    pass   # I will later write statement for this function.\n",
    "\n",
    "\n",
    "# Example-2\n",
    "num=23\n",
    "if num%2==0:\n",
    "    pass   # I dont want to do anything, if it is an even number.\n",
    "else:\n",
    "    print(num,\"is an odd number.\")\n"
   ]
  },
  {
   "cell_type": "markdown",
   "metadata": {},
   "source": [
    "# Two Dimensional List"
   ]
  },
  {
   "cell_type": "code",
   "execution_count": 22,
   "metadata": {},
   "outputs": [
    {
     "name": "stdout",
     "output_type": "stream",
     "text": [
      "[1, 3, 5, 7, 9]\n",
      "[2, 4, 6, 8, 10]\n",
      "1 will be printed\n",
      "3 will be printed\n",
      "5 will be printed\n",
      "7 will be printed\n",
      "9 will be printed\n",
      "2 will be printed\n",
      "4 will be printed\n",
      "6 will be printed\n",
      "8 will be printed\n",
      "10 will be printed\n"
     ]
    }
   ],
   "source": [
    "# Learn from the below example.\n",
    "all_numbers=[[1,3,5,7,9],[2,4,6,8,10]] # Example of a two dimensional list.\n",
    "\n",
    "\n",
    "# Accessing list in list\n",
    "print(all_numbers[0])  # I will get the first list in the main list\n",
    "print(all_numbers[1])  # I will get the second list in the main list\n",
    "\n",
    "\n",
    "# Accessing each element in list of list.\n",
    "print(all_numbers[0][0],\"will be printed\")\n",
    "print(all_numbers[0][1],\"will be printed\")\n",
    "print(all_numbers[0][2],\"will be printed\")\n",
    "print(all_numbers[0][3],\"will be printed\")\n",
    "print(all_numbers[0][4],\"will be printed\")\n",
    "\n",
    "print(all_numbers[1][0],\"will be printed\")\n",
    "print(all_numbers[1][1],\"will be printed\")\n",
    "print(all_numbers[1][2],\"will be printed\")\n",
    "print(all_numbers[1][3],\"will be printed\")\n",
    "print(all_numbers[1][4],\"will be printed\")\n"
   ]
  },
  {
   "cell_type": "markdown",
   "metadata": {},
   "source": [
    "# Three Dimensional List"
   ]
  },
  {
   "cell_type": "code",
   "execution_count": 21,
   "metadata": {},
   "outputs": [
    {
     "name": "stdout",
     "output_type": "stream",
     "text": [
      "[[1, 2, 3, 4], [5, 6, 7, 8], [9, 10, 11, 12]]\n",
      "[[13, 14, 15, 16], [17, 18, 19, 20], [21, 22, 23, 24]]\n",
      "[[25, 26, 27, 28], [29, 30, 31, 32], [33, 34, 35, 36]]\n",
      "[1, 2, 3, 4]\n",
      "[5, 6, 7, 8]\n",
      "[9, 10, 11, 12]\n",
      "[13, 14, 15, 16]\n",
      "[17, 18, 19, 20]\n",
      "[21, 22, 23, 24]\n",
      "[25, 26, 27, 28]\n",
      "[29, 30, 31, 32]\n",
      "[33, 34, 35, 36]\n",
      "1\n",
      "2\n",
      "3\n"
     ]
    }
   ],
   "source": [
    "# Learn from the below example.\n",
    "three_sets= [\n",
    "            [[1, 2, 3, 4],[5, 6, 7, 8,],[9, 10, 11, 12]],\n",
    "            [[13, 14, 15, 16],[17, 18, 19, 20],[21, 22, 23, 24]],\n",
    "            [[25, 26, 27, 28], [29, 30, 31, 32], [33, 34, 35, 36]]\n",
    "            ]\n",
    "\n",
    "# Accessing each list in list\n",
    "print(three_sets[0])\n",
    "print(three_sets[1])\n",
    "print(three_sets[2])\n",
    "\n",
    "# Accessing list in list of list\n",
    "print(three_sets[0][0])\n",
    "print(three_sets[0][1])\n",
    "print(three_sets[0][2])\n",
    "print(three_sets[1][0])\n",
    "print(three_sets[1][1])\n",
    "print(three_sets[1][2])\n",
    "print(three_sets[2][0])\n",
    "print(three_sets[2][1])\n",
    "print(three_sets[2][2])\n",
    "\n",
    "# Acessing the items in (list of list of list)\n",
    "print(three_sets[0][0][0])\n",
    "print(three_sets[0][0][1])\n",
    "print(three_sets[0][0][2])\n",
    "\n",
    "\n",
    "\n"
   ]
  },
  {
   "cell_type": "markdown",
   "metadata": {},
   "source": [
    "# Updating the values in the list"
   ]
  },
  {
   "cell_type": "code",
   "execution_count": 26,
   "metadata": {},
   "outputs": [
    {
     "name": "stdout",
     "output_type": "stream",
     "text": [
      "['monkey', 'donkey', 'camel', 'lion', 'bear']\n",
      "['Elephant', 'donkey', 'camel', 'lion', 'bear']\n"
     ]
    }
   ],
   "source": [
    "# This the list of animal in your zoo.\n",
    "\n",
    "zoo_animal=[\"monkey\",\"donkey\",\"camel\",\"lion\",\"bear\"]\n",
    "print(zoo_animal)\n",
    "\n",
    "\n",
    "# After somedays, monkey died and an elephant come to zoo.\n",
    "# So yo want to update the zoo_animal list.\n",
    "\n",
    "zoo_animal[0]=\"Elephant\"\n",
    "print(zoo_animal)"
   ]
  },
  {
   "cell_type": "markdown",
   "metadata": {},
   "source": [
    "# Exception handling"
   ]
  },
  {
   "cell_type": "code",
   "execution_count": null,
   "metadata": {},
   "outputs": [],
   "source": [
    "\"\"\"\n",
    "Python has many built-in exceptions that are raised when your\n",
    "program encounters an error (something in the program goes wrong).\n",
    "\n",
    "When these exceptions occur, the Python interpreter stops the current\n",
    "process and passes it to the calling process until it is handled.\n",
    "If not handled, the program will crash.\n",
    "\"\"\""
   ]
  },
  {
   "cell_type": "markdown",
   "metadata": {},
   "source": [
    "# Try and Except"
   ]
  },
  {
   "cell_type": "code",
   "execution_count": null,
   "metadata": {},
   "outputs": [],
   "source": [
    "\"\"\"\n",
    "In Python, exceptions can be handled using a try statement.\n",
    "\n",
    "The critical operation which can raise an exception is placed\n",
    "inside the try clause. The code that handles the exceptions\n",
    "is written in the except clause.\n",
    "\"\"\""
   ]
  },
  {
   "cell_type": "code",
   "execution_count": 28,
   "metadata": {},
   "outputs": [
    {
     "name": "stdout",
     "output_type": "stream",
     "text": [
      "Enter the numerator: 42\n",
      "Enter the denominator: 0\n",
      "Ohh!! You try to divide a number by zero.Dont do it again\n"
     ]
    }
   ],
   "source": [
    "# Creating try and except for ZeroDivisionError\n",
    "numerator=int(input(\"Enter the numerator: \"))\n",
    "denominator=int(input(\"Enter the denominator: \"))\n",
    "try:\n",
    "    print(numerator/denominator)\n",
    "except:\n",
    "    print(\"Ohh!! You try to divide a number by zero.Dont do it again\")"
   ]
  },
  {
   "cell_type": "code",
   "execution_count": 32,
   "metadata": {},
   "outputs": [
    {
     "name": "stdout",
     "output_type": "stream",
     "text": [
      "Enter the numerator: 42\n",
      "Enter the denominator: abc\n",
      "Ohh! You try to divide a number by alphabets.\n"
     ]
    }
   ],
   "source": [
    "# Creating try and except for ZeroDivisionError and ValueError\n",
    "# I am not using int() while taking input ->note that.\n",
    "numerator=input(\"Enter the numerator: \")\n",
    "denominator=input(\"Enter the denominator: \")\n",
    "try:\n",
    "    print(int(numerator)/int(denominator))\n",
    "except ZeroDivisionError:\n",
    "    print(\"Ohh!! You try to divide a number by zero.Dont do it again\")\n",
    "except ValueError:\n",
    "    print(\"Ohh! You try to divide a number by alphabets.\")"
   ]
  },
  {
   "cell_type": "markdown",
   "metadata": {},
   "source": [
    "# Try Finally"
   ]
  },
  {
   "cell_type": "code",
   "execution_count": 41,
   "metadata": {},
   "outputs": [],
   "source": [
    "# Finally can be included with the Try statement.\n",
    "# LEarn from the example below."
   ]
  },
  {
   "cell_type": "code",
   "execution_count": 40,
   "metadata": {},
   "outputs": [
    {
     "name": "stdout",
     "output_type": "stream",
     "text": [
      "8.4\n",
      "This will always be printed.\n"
     ]
    }
   ],
   "source": [
    "# Example-1\n",
    "# Finally statement will always execute.\n",
    "try:\n",
    "    print(42/5)\n",
    "finally:\n",
    "    print(\"This will always be printed.\")"
   ]
  },
  {
   "cell_type": "code",
   "execution_count": 39,
   "metadata": {},
   "outputs": [
    {
     "name": "stdout",
     "output_type": "stream",
     "text": [
      "This will always be printed.\n"
     ]
    },
    {
     "ename": "ZeroDivisionError",
     "evalue": "division by zero",
     "output_type": "error",
     "traceback": [
      "\u001b[1;31m---------------------------------------------------------------------------\u001b[0m",
      "\u001b[1;31mZeroDivisionError\u001b[0m                         Traceback (most recent call last)",
      "\u001b[1;32m<ipython-input-39-51dea45982e3>\u001b[0m in \u001b[0;36m<module>\u001b[1;34m\u001b[0m\n\u001b[0;32m      1\u001b[0m \u001b[1;32mtry\u001b[0m\u001b[1;33m:\u001b[0m\u001b[1;33m\u001b[0m\u001b[0m\n\u001b[1;32m----> 2\u001b[1;33m     \u001b[0mprint\u001b[0m\u001b[1;33m(\u001b[0m\u001b[1;36m42\u001b[0m\u001b[1;33m/\u001b[0m\u001b[1;36m0\u001b[0m\u001b[1;33m)\u001b[0m\u001b[1;33m\u001b[0m\u001b[0m\n\u001b[0m\u001b[0;32m      3\u001b[0m \u001b[1;32mfinally\u001b[0m\u001b[1;33m:\u001b[0m\u001b[1;33m\u001b[0m\u001b[0m\n\u001b[0;32m      4\u001b[0m     \u001b[0mprint\u001b[0m\u001b[1;33m(\u001b[0m\u001b[1;34m\"This will always be printed.\"\u001b[0m\u001b[1;33m)\u001b[0m\u001b[1;33m\u001b[0m\u001b[0m\n",
      "\u001b[1;31mZeroDivisionError\u001b[0m: division by zero"
     ]
    }
   ],
   "source": [
    "# Example-2\n",
    "# Finally statement will always execute.\n",
    "try:\n",
    "    print(42/0)\n",
    "finally:\n",
    "    print(\"This will always be printed.\")"
   ]
  },
  {
   "cell_type": "markdown",
   "metadata": {},
   "source": [
    "# Try Except Finally"
   ]
  },
  {
   "cell_type": "code",
   "execution_count": null,
   "metadata": {},
   "outputs": [],
   "source": [
    "# In all case, statement in the finally will execute.\n",
    "# Learn from the example."
   ]
  },
  {
   "cell_type": "code",
   "execution_count": 35,
   "metadata": {},
   "outputs": [
    {
     "name": "stdout",
     "output_type": "stream",
     "text": [
      "Enter the numerator: 42\n",
      "Enter the denominator: 5\n",
      "8.4\n",
      "This will be always be printed.\n"
     ]
    }
   ],
   "source": [
    "# Creating try and except for ZeroDivisionError\n",
    "numerator=input(\"Enter the numerator: \")\n",
    "denominator=input(\"Enter the denominator: \")\n",
    "try:\n",
    "    print(int(numerator)/int(denominator))\n",
    "except ZeroDivisionError:\n",
    "    print(\"Ohh!! You try to divide a number by zero.Dont do it again\")\n",
    "finally:\n",
    "    print(\"This will be always be printed.\")"
   ]
  },
  {
   "cell_type": "code",
   "execution_count": 33,
   "metadata": {},
   "outputs": [
    {
     "name": "stdout",
     "output_type": "stream",
     "text": [
      "Enter the numerator: 42\n",
      "Enter the denominator: 0\n",
      "Ohh!! You try to divide a number by zero.Dont do it again\n",
      "This will be always be printed.\n"
     ]
    }
   ],
   "source": [
    "# Creating try and except for ZeroDivisionError\n",
    "numerator=input(\"Enter the numerator: \")\n",
    "denominator=input(\"Enter the denominator: \")\n",
    "try:\n",
    "    print(int(numerator)/int(denominator))\n",
    "except ZeroDivisionError:\n",
    "    print(\"Ohh!! You try to divide a number by zero.Dont do it again\")\n",
    "finally:\n",
    "    print(\"This will be always be printed.\")"
   ]
  },
  {
   "cell_type": "code",
   "execution_count": 1,
   "metadata": {},
   "outputs": [
    {
     "name": "stdout",
     "output_type": "stream",
     "text": [
      "Enter the numerator: 42\n",
      "Enter the denominator: abc\n",
      "Ohh! You try to divide a number by alphabets.\n",
      "This will be always be printed.\n"
     ]
    }
   ],
   "source": [
    "# Creating try and except for ZeroDivisionError and ValueError\n",
    "# I am not using int() while taking input ->note that.\n",
    "numerator=input(\"Enter the numerator: \")\n",
    "denominator=input(\"Enter the denominator: \")\n",
    "try:\n",
    "    print(int(numerator)/int(denominator))\n",
    "except ZeroDivisionError:\n",
    "    print(\"Ohh!! You try to divide a number by zero.Dont do it again\")\n",
    "except ValueError:\n",
    "    print(\"Ohh! You try to divide a number by alphabets.\")\n",
    "except:\n",
    "    print(\"Some other error.\")\n",
    "finally:\n",
    "    print(\"This will be always be printed.\")"
   ]
  },
  {
   "cell_type": "markdown",
   "metadata": {},
   "source": [
    "# Try Except Else"
   ]
  },
  {
   "cell_type": "code",
   "execution_count": 36,
   "metadata": {},
   "outputs": [],
   "source": [
    "# If try worked ->else worked\n",
    "# If except worked ->else dont work"
   ]
  },
  {
   "cell_type": "code",
   "execution_count": 37,
   "metadata": {},
   "outputs": [
    {
     "name": "stdout",
     "output_type": "stream",
     "text": [
      "Enter a number: 12\n",
      "0.08333333333333333\n"
     ]
    }
   ],
   "source": [
    "# Example-1\n",
    "# I want to find the reciprocal of a number inputted by user.\n",
    "try:\n",
    "    num=int(input(\"Enter a number: \"))\n",
    "except:\n",
    "    print(\"You typed a alphabet.\")\n",
    "else:\n",
    "    print(1/num) # Printing the reciprocal."
   ]
  },
  {
   "cell_type": "code",
   "execution_count": 38,
   "metadata": {},
   "outputs": [
    {
     "name": "stdout",
     "output_type": "stream",
     "text": [
      "Enter a number: abc\n",
      "You typed a alphabet.\n"
     ]
    }
   ],
   "source": [
    "# Example-2\n",
    "# I want to find the reciprocal of a number inputted by user.\n",
    "try:\n",
    "    num=int(input(\"Enter a number: \"))\n",
    "except:\n",
    "    print(\"You typed a alphabet.\")\n",
    "else:\n",
    "    print(1/num) # Printing the reciprocal."
   ]
  },
  {
   "cell_type": "markdown",
   "metadata": {},
   "source": [
    "# User input validation"
   ]
  },
  {
   "cell_type": "code",
   "execution_count": 1,
   "metadata": {},
   "outputs": [
    {
     "name": "stdout",
     "output_type": "stream",
     "text": [
      "Enter the base:12\n",
      "Enter the exponent: abc\n",
      "Enter a valid number, not alphabets.\n",
      "Enter the base:ghj\n",
      "Enter a valid number, not alphabets.\n",
      "Enter the base:drf\n",
      "Enter a valid number, not alphabets.\n",
      "Enter the base:45\n",
      "Enter the exponent: kjl\n",
      "Enter a valid number, not alphabets.\n",
      "Enter the base:65\n",
      "Enter the exponent: 23\n",
      "497745340030349688137123548984527587890625\n"
     ]
    }
   ],
   "source": [
    "# Program to get correct input from the user until it is correct.\n",
    "# This is a program for printing the power of a number.\n",
    "while True:\n",
    "    try:\n",
    "        base=int(input(\"Enter the base:\"))\n",
    "        exponent=int(input(\"Enter the exponent: \"))\n",
    "        break  # This line will execute if and only if all the above works.\n",
    "    except:\n",
    "        print(\"Enter a valid number, not alphabets.\")\n",
    "\n",
    "print(pow(base,exponent))\n",
    "        \n"
   ]
  },
  {
   "cell_type": "markdown",
   "metadata": {},
   "source": [
    "# Getting multiple input"
   ]
  },
  {
   "cell_type": "code",
   "execution_count": 9,
   "metadata": {},
   "outputs": [
    {
     "name": "stdout",
     "output_type": "stream",
     "text": [
      "['aks', 'bps', 'kbps', 'low', 'high']\n",
      "['0477', '1452', '3256', '14523']\n"
     ]
    }
   ],
   "source": [
    "# Working of the split method.\n",
    "print(\"aks bps kbps low high\".split())    # Split with space\n",
    "print(\"0477-1452-3256-14523\".split(\"-\"))  # Split using -"
   ]
  },
  {
   "cell_type": "code",
   "execution_count": 2,
   "metadata": {},
   "outputs": [
    {
     "name": "stdout",
     "output_type": "stream",
     "text": [
      "Enter your hobby: cricket foootball coding fighting\n",
      "['cricket', 'foootball', 'coding', 'fighting']\n"
     ]
    }
   ],
   "source": [
    "# Getting a list of data from the user.\n",
    "# Output of input().split() will be a list.\n",
    "# input().split() will split according to space in the input.\n",
    "user_data=input(\"Enter your hobby: \").split()\n",
    "print(user_data)"
   ]
  },
  {
   "cell_type": "code",
   "execution_count": 4,
   "metadata": {},
   "outputs": [
    {
     "name": "stdout",
     "output_type": "stream",
     "text": [
      "Enter some numbers: 515 5454 515 515 454521 84 5551\n",
      "[515, 5454, 515, 515, 454521, 84, 5551]\n"
     ]
    }
   ],
   "source": [
    "# Getting some numbers from the user.\n",
    "# Using list comprehension.\n",
    "random_int=[int(i) for i in input(\"Enter some numbers: \").split()]\n",
    "print(random_int)"
   ]
  },
  {
   "cell_type": "markdown",
   "metadata": {},
   "source": [
    "# map() function"
   ]
  },
  {
   "cell_type": "code",
   "execution_count": null,
   "metadata": {},
   "outputs": [],
   "source": [
    "# map(int,[]) convert each item in list to integer.\n",
    "# map(float,[]) convert each item in list to float.\n",
    "# map(str,[]) convert each item in list to string"
   ]
  },
  {
   "cell_type": "code",
   "execution_count": 5,
   "metadata": {},
   "outputs": [
    {
     "name": "stdout",
     "output_type": "stream",
     "text": [
      "Enter three numbers: 151 515415 55151\n",
      "151 515415 55151\n"
     ]
    }
   ],
   "source": [
    "# Getting three numbers from the user.\n",
    "num1,num2,num3=map(int,input(\"Enter three numbers: \").split())\n",
    "print(num1,num2,num3)"
   ]
  },
  {
   "cell_type": "code",
   "execution_count": 6,
   "metadata": {},
   "outputs": [
    {
     "name": "stdout",
     "output_type": "stream",
     "text": [
      "Enter three numbers: 5154 515185 218542 5484512515\n",
      "[5154, 515185, 218542, 5484512515]\n"
     ]
    }
   ],
   "source": [
    "# Getting some numbers from the user.\n",
    "random_int=list(map(int,input(\"Enter three numbers: \").split()))\n",
    "print(random_int)"
   ]
  },
  {
   "cell_type": "markdown",
   "metadata": {},
   "source": [
    "# Exclusive offer"
   ]
  },
  {
   "cell_type": "code",
   "execution_count": 13,
   "metadata": {},
   "outputs": [
    {
     "name": "stdout",
     "output_type": "stream",
     "text": [
      "Enter the names: peter david manu haris leo prince\n",
      "['PETER', 'DAVID', 'MANU', 'HARIS', 'LEO', 'PRINCE']\n"
     ]
    }
   ],
   "source": [
    "# I need to get space searated input from the user.\n",
    "# Convert it to a list\n",
    "# Convert each item in the list to upper.\n",
    "upper_names=list(map(str.upper, input(\"Enter the names: \").split()))\n",
    "print(upper_names)"
   ]
  },
  {
   "cell_type": "markdown",
   "metadata": {},
   "source": [
    "# Dictionary in python"
   ]
  },
  {
   "cell_type": "code",
   "execution_count": null,
   "metadata": {},
   "outputs": [],
   "source": [
    "# For storing key-value pairs\n",
    "# Same as the English dictionary.\n",
    "\n",
    "\"\"\"\n",
    "Each key is separated from its value by a colon (:), the items\n",
    "are separated by commas, and the whole thing is enclosed in curly braces.\n",
    "An empty dictionary without any items is written with just\n",
    "two curly braces, like this: {}.\n",
    "\n",
    "Keys are unique within a dictionary while values may not be.\n",
    "The values of a dictionary can be of any type,\n",
    "but the keys must be of an immutable data type\n",
    "such as strings, numbers, or tuples.\n",
    "\"\"\""
   ]
  },
  {
   "cell_type": "markdown",
   "metadata": {},
   "source": [
    "## Creating a dictionary and getting values from the dictionary"
   ]
  },
  {
   "cell_type": "code",
   "execution_count": 14,
   "metadata": {},
   "outputs": [
    {
     "name": "stdout",
     "output_type": "stream",
     "text": [
      "{'car': 'honda', 'pet': 'dog', 'watch': 'sonata', 'phone': 'android'}\n",
      "honda\n",
      "sonata\n"
     ]
    }
   ],
   "source": [
    "# creating an empty dictionary\n",
    "names={}\n",
    "\n",
    "# Creating a dictionary with values.\n",
    "my_favourites={\"car\":\"honda\",\"pet\":\"dog\",\"watch\":\"sonata\",\"phone\":\"android\"}\n",
    "print(my_favourites)\n",
    "\n",
    "# Printing the values in the dictionary using the key\n",
    "\n",
    "print(my_favourites[\"car\"]) # Printing my favourite car.\n",
    "print(my_favourites[\"watch\"]) # Printing my favourite watch."
   ]
  },
  {
   "cell_type": "markdown",
   "metadata": {},
   "source": [
    "# Getting all keys in a dictionary"
   ]
  },
  {
   "cell_type": "code",
   "execution_count": 16,
   "metadata": {},
   "outputs": [
    {
     "name": "stdout",
     "output_type": "stream",
     "text": [
      "{'car': 'honda', 'pet': 'dog', 'watch': 'sonata', 'phone': 'android'}\n",
      "car\n",
      "pet\n",
      "watch\n",
      "phone\n",
      "['car', 'pet', 'watch', 'phone']\n"
     ]
    }
   ],
   "source": [
    "# Creating a dictionary with values.\n",
    "my_favourites={\"car\":\"honda\",\"pet\":\"dog\",\"watch\":\"sonata\",\"phone\":\"android\"}\n",
    "print(my_favourites)\n",
    "\n",
    "# Example-1\n",
    "for i in my_favourites:\n",
    "    print(i)\n",
    "\n",
    "    \n",
    "# Example-2\n",
    "all_keys=list(my_favourites.keys())\n",
    "print(all_keys)"
   ]
  },
  {
   "cell_type": "markdown",
   "metadata": {},
   "source": [
    "# Getting all values in a dictionary"
   ]
  },
  {
   "cell_type": "code",
   "execution_count": 18,
   "metadata": {},
   "outputs": [
    {
     "name": "stdout",
     "output_type": "stream",
     "text": [
      "{'car': 'honda', 'pet': 'dog', 'watch': 'sonata', 'phone': 'android'}\n",
      "honda\n",
      "dog\n",
      "sonata\n",
      "android\n",
      "['honda', 'dog', 'sonata', 'android']\n"
     ]
    }
   ],
   "source": [
    "# Creating a dictionary with values.\n",
    "my_favourites={\"car\":\"honda\",\"pet\":\"dog\",\"watch\":\"sonata\",\"phone\":\"android\"}\n",
    "print(my_favourites)\n",
    "\n",
    "# Example-1\n",
    "for i in my_favourites:\n",
    "    print(my_favourites[i])\n",
    "    \n",
    "# Exampe-2\n",
    "all_values=list(my_favourites.values())\n",
    "print(all_values)"
   ]
  },
  {
   "cell_type": "markdown",
   "metadata": {},
   "source": [
    "## Updating the values in the dictionary"
   ]
  },
  {
   "cell_type": "code",
   "execution_count": 20,
   "metadata": {},
   "outputs": [
    {
     "name": "stdout",
     "output_type": "stream",
     "text": [
      "{'car': 'honda', 'pet': 'dog', 'watch': 'sonata', 'phone': 'android'}\n",
      "{'car': 'honda', 'pet': 'dog', 'watch': 'hmt', 'phone': 'apple'}\n"
     ]
    }
   ],
   "source": [
    "# Creating a dictionary with values.\n",
    "my_favourites={\"car\":\"honda\",\"pet\":\"dog\",\"watch\":\"sonata\",\"phone\":\"android\"}\n",
    "print(my_favourites)\n",
    "\n",
    "# Updating the values.\n",
    "my_favourites[\"watch\"]=\"hmt\"\n",
    "my_favourites[\"phone\"]=\"apple\"  \n",
    "\n",
    "print(my_favourites)\n"
   ]
  },
  {
   "cell_type": "markdown",
   "metadata": {},
   "source": [
    "# File operations"
   ]
  },
  {
   "cell_type": "markdown",
   "metadata": {},
   "source": [
    "## Writing to a file"
   ]
  },
  {
   "cell_type": "code",
   "execution_count": 24,
   "metadata": {},
   "outputs": [],
   "source": [
    "# Creating a sample txt file.\n",
    "# Adding content to it.\n",
    "file_name=\"sample1.txt\"\n",
    "myFile=open(file_name,\"w\") # Opening a file in write mode.\n",
    "myFile.write(\"Hello This is me.\\n How do you do?\")\n",
    "myFile.close()   # Closing a file."
   ]
  },
  {
   "cell_type": "markdown",
   "metadata": {},
   "source": [
    "## Reading from a file."
   ]
  },
  {
   "cell_type": "code",
   "execution_count": 25,
   "metadata": {},
   "outputs": [
    {
     "name": "stdout",
     "output_type": "stream",
     "text": [
      "Hello This is me.\n",
      " How do you do?\n"
     ]
    }
   ],
   "source": [
    "# Reading data from an existing file.\n",
    "# Priting the content in the file.\n",
    "file_name=\"sample1.txt\"\n",
    "myFile=open(file_name,\"r\")   # Opening a file in read mode.\n",
    "fileContent=myFile.read()    # Storing file content as string to a variable.\n",
    "print(fileContent)\n",
    "myFile.close()               # Closing a file."
   ]
  },
  {
   "cell_type": "markdown",
   "metadata": {},
   "source": [
    "## Various file modes in python"
   ]
  },
  {
   "cell_type": "code",
   "execution_count": null,
   "metadata": {},
   "outputs": [],
   "source": [
    "\"\"\"\n",
    "\n",
    "‘r’ – Read mode which is used when the file is\n",
    "      only being read\n",
    "‘w’ – Write mode which is used to edit and write\n",
    "      new information to the file (any existing\n",
    "      files with the same name will be erased when\n",
    "      this mode is activated)\n",
    "‘a’ – Appending mode, which is used to add\n",
    "      new data to the end of the file;\n",
    "      that is new information is automatically\n",
    "      amended to the end\n",
    "‘r+’ – Special read and write mode, which is used\n",
    "       to handle both actions when working with a file\n",
    "\n",
    "\n",
    "\"\"\""
   ]
  },
  {
   "cell_type": "markdown",
   "metadata": {},
   "source": [
    "# with keyword to deal with file"
   ]
  },
  {
   "cell_type": "code",
   "execution_count": null,
   "metadata": {},
   "outputs": [],
   "source": [
    "# If we open file using with keyword.\n",
    "# We dont have to close the file manually."
   ]
  },
  {
   "cell_type": "markdown",
   "metadata": {},
   "source": [
    "### Writing to a file"
   ]
  },
  {
   "cell_type": "code",
   "execution_count": 26,
   "metadata": {},
   "outputs": [],
   "source": [
    "fileName=\"sample2.txt\"\n",
    "with open(fileName,\"w\") as myFile:\n",
    "    myFile.write(\"Hello This is me.\\n How do you do?\")\n",
    "# Thats all"
   ]
  },
  {
   "cell_type": "markdown",
   "metadata": {},
   "source": [
    "### Reading from a file"
   ]
  },
  {
   "cell_type": "code",
   "execution_count": 27,
   "metadata": {},
   "outputs": [
    {
     "name": "stdout",
     "output_type": "stream",
     "text": [
      "Hello This is me.\n",
      " How do you do?\n"
     ]
    }
   ],
   "source": [
    "fileName=\"sample2.txt\"\n",
    "with open(fileName,\"r\") as myFile:\n",
    "    fileContent=myFile.read()\n",
    "print(fileContent)\n",
    "# Thats all"
   ]
  },
  {
   "cell_type": "markdown",
   "metadata": {},
   "source": [
    "# For using module located in another folder."
   ]
  },
  {
   "cell_type": "code",
   "execution_count": 11,
   "metadata": {},
   "outputs": [
    {
     "name": "stdout",
     "output_type": "stream",
     "text": [
      "['C:\\\\Users\\\\Lazy-Coder\\\\Desktop\\\\modules', 'c:\\\\users\\\\lazy-coder\\\\appdata\\\\local\\\\programs\\\\python\\\\python36\\\\python36.zip', 'c:\\\\users\\\\lazy-coder\\\\appdata\\\\local\\\\programs\\\\python\\\\python36\\\\DLLs', 'c:\\\\users\\\\lazy-coder\\\\appdata\\\\local\\\\programs\\\\python\\\\python36\\\\lib', 'c:\\\\users\\\\lazy-coder\\\\appdata\\\\local\\\\programs\\\\python\\\\python36', '', 'c:\\\\users\\\\lazy-coder\\\\appdata\\\\local\\\\programs\\\\python\\\\python36\\\\lib\\\\site-packages', 'c:\\\\users\\\\lazy-coder\\\\appdata\\\\local\\\\programs\\\\python\\\\python36\\\\lib\\\\site-packages\\\\win32', 'c:\\\\users\\\\lazy-coder\\\\appdata\\\\local\\\\programs\\\\python\\\\python36\\\\lib\\\\site-packages\\\\win32\\\\lib', 'c:\\\\users\\\\lazy-coder\\\\appdata\\\\local\\\\programs\\\\python\\\\python36\\\\lib\\\\site-packages\\\\Pythonwin', 'c:\\\\users\\\\lazy-coder\\\\appdata\\\\local\\\\programs\\\\python\\\\python36\\\\lib\\\\site-packages\\\\IPython\\\\extensions', 'C:\\\\Users\\\\Lazy-Coder\\\\.ipython']\n"
     ]
    }
   ],
   "source": [
    "# Get the absolute or relative path of your module.\n",
    "import sys\n",
    "print(sys.path)\n",
    "# Add path to this list to use from anywhere."
   ]
  },
  {
   "cell_type": "code",
   "execution_count": 12,
   "metadata": {},
   "outputs": [
    {
     "name": "stdout",
     "output_type": "stream",
     "text": [
      "['C:\\\\Users\\\\Lazy-Coder\\\\Desktop\\\\modules', 'c:\\\\users\\\\lazy-coder\\\\appdata\\\\local\\\\programs\\\\python\\\\python36\\\\python36.zip', 'c:\\\\users\\\\lazy-coder\\\\appdata\\\\local\\\\programs\\\\python\\\\python36\\\\DLLs', 'c:\\\\users\\\\lazy-coder\\\\appdata\\\\local\\\\programs\\\\python\\\\python36\\\\lib', 'c:\\\\users\\\\lazy-coder\\\\appdata\\\\local\\\\programs\\\\python\\\\python36', '', 'c:\\\\users\\\\lazy-coder\\\\appdata\\\\local\\\\programs\\\\python\\\\python36\\\\lib\\\\site-packages', 'c:\\\\users\\\\lazy-coder\\\\appdata\\\\local\\\\programs\\\\python\\\\python36\\\\lib\\\\site-packages\\\\win32', 'c:\\\\users\\\\lazy-coder\\\\appdata\\\\local\\\\programs\\\\python\\\\python36\\\\lib\\\\site-packages\\\\win32\\\\lib', 'c:\\\\users\\\\lazy-coder\\\\appdata\\\\local\\\\programs\\\\python\\\\python36\\\\lib\\\\site-packages\\\\Pythonwin', 'c:\\\\users\\\\lazy-coder\\\\appdata\\\\local\\\\programs\\\\python\\\\python36\\\\lib\\\\site-packages\\\\IPython\\\\extensions', 'C:\\\\Users\\\\Lazy-Coder\\\\.ipython', \"C:\\\\Users\\\\Lazy-Coder\\\\Desktop\\\\my-modules'\"]\n"
     ]
    }
   ],
   "source": [
    "sys.path.append(\"C:\\\\Users\\\\Lazy-Coder\\\\Desktop\\\\my-modules'\")\n",
    "print(sys.path)\n",
    "# See the last item in the list.\n",
    "\n",
    "# After this you can import that modules in your file."
   ]
  },
  {
   "cell_type": "markdown",
   "metadata": {},
   "source": [
    "# Alternate method"
   ]
  },
  {
   "cell_type": "code",
   "execution_count": null,
   "metadata": {},
   "outputs": [],
   "source": [
    "# Get the absolute path of your module.\n",
    "\"\"\"\n",
    "open start\n",
    "type env there and press ok.\n",
    "Environment variables->user variables->New->\n",
    "Set variable name as PYTHONPATH\n",
    "Set variable values as the absolute path of your module.\n",
    "Click ok->ok->ok.\n",
    "Now you can import your modules anywhere in python file and shell.\n",
    "\n",
    "\"\"\""
   ]
  },
  {
   "cell_type": "markdown",
   "metadata": {},
   "source": [
    "# pip"
   ]
  },
  {
   "cell_type": "code",
   "execution_count": null,
   "metadata": {},
   "outputs": [],
   "source": [
    "\"\"\"\n",
    "pip is package manager in python for installing the third party\n",
    "modules/packages.\n",
    "pip3 ->for python3 in linux\n",
    "pip2 ->for python2 in linux\n",
    "\"\"\""
   ]
  },
  {
   "cell_type": "markdown",
   "metadata": {},
   "source": [
    "# Installing opencv in python"
   ]
  },
  {
   "cell_type": "code",
   "execution_count": null,
   "metadata": {},
   "outputs": [],
   "source": [
    "# For Windows\n",
    "# Open command-prompt and type\n",
    "# pip install opencv-python\n",
    "# This will install opencv in your pc\n",
    "\n",
    "# For Linux\n",
    "# Open terminal and type\n",
    "# pip3 install opencv-python\n",
    "# This will install opencv in your pc\n"
   ]
  },
  {
   "cell_type": "markdown",
   "metadata": {},
   "source": [
    "# Importing opencv"
   ]
  },
  {
   "cell_type": "code",
   "execution_count": 13,
   "metadata": {},
   "outputs": [
    {
     "name": "stdout",
     "output_type": "stream",
     "text": [
      "4.3.0\n"
     ]
    }
   ],
   "source": [
    "import cv2\n",
    "print(cv2.__version__) # Printing the verison of the opencv"
   ]
  },
  {
   "cell_type": "markdown",
   "metadata": {},
   "source": [
    "# os module"
   ]
  },
  {
   "cell_type": "code",
   "execution_count": null,
   "metadata": {},
   "outputs": [],
   "source": [
    "\"\"\"\n",
    "This module provides a portable way of using\n",
    "operating system dependent functionality.\n",
    "\"\"\""
   ]
  },
  {
   "cell_type": "code",
   "execution_count": 20,
   "metadata": {},
   "outputs": [
    {
     "name": "stdout",
     "output_type": "stream",
     "text": [
      "['DirEntry', 'F_OK', 'MutableMapping', 'O_APPEND', 'O_BINARY', 'O_CREAT', 'O_EXCL', 'O_NOINHERIT', 'O_RANDOM', 'O_RDONLY', 'O_RDWR', 'O_SEQUENTIAL', 'O_SHORT_LIVED', 'O_TEMPORARY', 'O_TEXT', 'O_TRUNC', 'O_WRONLY', 'P_DETACH', 'P_NOWAIT', 'P_NOWAITO', 'P_OVERLAY', 'P_WAIT', 'PathLike', 'R_OK', 'SEEK_CUR', 'SEEK_END', 'SEEK_SET', 'TMP_MAX', 'W_OK', 'X_OK', '_Environ', '__all__', '__builtins__', '__cached__', '__doc__', '__file__', '__loader__', '__name__', '__package__', '__spec__', '_execvpe', '_exists', '_exit', '_fspath', '_get_exports_list', '_putenv', '_unsetenv', '_wrap_close', 'abc', 'abort', 'access', 'altsep', 'chdir', 'chmod', 'close', 'closerange', 'cpu_count', 'curdir', 'defpath', 'device_encoding', 'devnull', 'dup', 'dup2', 'environ', 'errno', 'error', 'execl', 'execle', 'execlp', 'execlpe', 'execv', 'execve', 'execvp', 'execvpe', 'extsep', 'fdopen', 'fsdecode', 'fsencode', 'fspath', 'fstat', 'fsync', 'ftruncate', 'get_exec_path', 'get_handle_inheritable', 'get_inheritable', 'get_terminal_size', 'getcwd', 'getcwdb', 'getenv', 'getlogin', 'getpid', 'getppid', 'isatty', 'kill', 'linesep', 'link', 'listdir', 'lseek', 'lstat', 'makedirs', 'mkdir', 'name', 'open', 'pardir', 'path', 'pathsep', 'pipe', 'popen', 'putenv', 'read', 'readlink', 'remove', 'removedirs', 'rename', 'renames', 'replace', 'rmdir', 'scandir', 'sep', 'set_handle_inheritable', 'set_inheritable', 'spawnl', 'spawnle', 'spawnv', 'spawnve', 'st', 'startfile', 'stat', 'stat_float_times', 'stat_result', 'statvfs_result', 'strerror', 'supports_bytes_environ', 'supports_dir_fd', 'supports_effective_ids', 'supports_fd', 'supports_follow_symlinks', 'symlink', 'sys', 'system', 'terminal_size', 'times', 'times_result', 'truncate', 'umask', 'uname_result', 'unlink', 'urandom', 'utime', 'waitpid', 'walk', 'write']\n"
     ]
    }
   ],
   "source": [
    "# Functions in the os module.\n",
    "import os\n",
    "print(dir(os))"
   ]
  },
  {
   "cell_type": "code",
   "execution_count": 21,
   "metadata": {},
   "outputs": [
    {
     "name": "stdout",
     "output_type": "stream",
     "text": [
      "['.ipynb_checkpoints', 'day-7.ipynb', 'sample.txt', 'sample1.txt', 'sample2.txt', 'Untitled.ipynb']\n",
      "\n",
      "\n",
      "['$Recycle.Bin', 'Config.Msi', 'Documents and Settings', 'hiberfil.sys', 'Intel', 'pagefile.sys', 'PerfLogs', 'Program Files', 'Program Files (x86)', 'ProgramData', 'Recovery', 'swapfile.sys', 'System Volume Information', 'Users', 'Windows']\n",
      "C:\\Users\\Lazy-Coder\\Desktop\\proddec-python-workshop\\day-7\n"
     ]
    }
   ],
   "source": [
    "# Functions in the os module.\n",
    "import os\n",
    "\n",
    "# List all the folders and files in this folder.\n",
    "print(os.listdir())  \n",
    "print(\"\\n\")\n",
    "\n",
    "# List all the folders and files in C folder\n",
    "print(os.listdir(\"C:\\\\\"))  \n",
    "\n",
    "\n",
    "# For getting the current working directory/folder.\n",
    "print(os.getcwd())\n",
    "\n",
    "# Renaming a file\n",
    "os.rename(\"old_file_name\",\"new_file_name\")\n",
    "\n",
    "# Removing a file\n",
    "os.remove(\"file_name_here\")\n",
    "\n"
   ]
  },
  {
   "cell_type": "markdown",
   "metadata": {},
   "source": [
    "## Making folders using os module"
   ]
  },
  {
   "cell_type": "code",
   "execution_count": null,
   "metadata": {},
   "outputs": [],
   "source": [
    "import os\n",
    "# mkdir is used to create a single folder.\n",
    "os.mkdir(\"folder_name_here\")\n",
    "\n",
    "# makedirs is used for creating multiples folders one inside others.\n",
    "os.makedirs(\"main_folder\\\\inner_folder\\\\inner_inner_folder\")\n"
   ]
  },
  {
   "cell_type": "code",
   "execution_count": null,
   "metadata": {},
   "outputs": [],
   "source": []
  }
 ],
 "metadata": {
  "kernelspec": {
   "display_name": "Python 3",
   "language": "python",
   "name": "python3"
  },
  "language_info": {
   "codemirror_mode": {
    "name": "ipython",
    "version": 3
   },
   "file_extension": ".py",
   "mimetype": "text/x-python",
   "name": "python",
   "nbconvert_exporter": "python",
   "pygments_lexer": "ipython3",
   "version": "3.6.6"
  }
 },
 "nbformat": 4,
 "nbformat_minor": 4
}
