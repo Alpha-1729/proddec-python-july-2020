{
 "cells": [
  {
   "cell_type": "markdown",
   "metadata": {},
   "source": [
    "# PRODDEC PYTHON DAY 5"
   ]
  },
  {
   "cell_type": "markdown",
   "metadata": {},
   "source": [
    "# Function, Recursion and Return - Working\n"
   ]
  },
  {
   "cell_type": "code",
   "execution_count": 42,
   "metadata": {},
   "outputs": [
    {
     "name": "stdout",
     "output_type": "stream",
     "text": [
      "120\n"
     ]
    }
   ],
   "source": [
    "# To find the factorial of the 5.\n",
    "def Factorial(n):\n",
    "    if n==1:\n",
    "        return 1\n",
    "    else:\n",
    "        return n*Factorial(n-1)\n",
    "    \n",
    "print(Factorial(5))"
   ]
  },
  {
   "cell_type": "markdown",
   "metadata": {},
   "source": [
    "## Working of recursion."
   ]
  },
  {
   "cell_type": "markdown",
   "metadata": {},
   "source": [
    "<img src=\"recursion.jpg\" style=\"height:300px;width:100%\">"
   ]
  },
  {
   "cell_type": "markdown",
   "metadata": {},
   "source": [
    "# List comprehension"
   ]
  },
  {
   "cell_type": "code",
   "execution_count": 19,
   "metadata": {},
   "outputs": [],
   "source": [
    "# List comprehensions provide a concise way to create lists.\n",
    "# Little line of code.\n",
    "# Complicated to understand."
   ]
  },
  {
   "cell_type": "markdown",
   "metadata": {},
   "source": [
    "## Without List comprehension"
   ]
  },
  {
   "cell_type": "code",
   "execution_count": 43,
   "metadata": {},
   "outputs": [
    {
     "name": "stdout",
     "output_type": "stream",
     "text": [
      "[1, 2, 3, 4, 5, 6, 7, 8, 9, 10, 11, 12, 13, 14, 15, 16, 17, 18, 19, 20]\n"
     ]
    }
   ],
   "source": [
    "# For adding all natural number (1-20) in a list.\n",
    "naturalNumber=[]\n",
    "for i in range(1,21):\n",
    "    naturalNumber.append(i)\n",
    "print(naturalNumber)"
   ]
  },
  {
   "cell_type": "markdown",
   "metadata": {},
   "source": [
    "## With List comprehension"
   ]
  },
  {
   "cell_type": "code",
   "execution_count": 44,
   "metadata": {},
   "outputs": [
    {
     "name": "stdout",
     "output_type": "stream",
     "text": [
      "[1, 2, 3, 4, 5, 6, 7, 8, 9, 10, 11, 12, 13, 14, 15, 16, 17, 18, 19, 20]\n"
     ]
    }
   ],
   "source": [
    "naturalNum=[i for i in range(1,21)] # List comprehension.\n",
    "print(naturalNum)"
   ]
  },
  {
   "cell_type": "markdown",
   "metadata": {},
   "source": [
    "## Using if condition in List comprehension"
   ]
  },
  {
   "cell_type": "code",
   "execution_count": 45,
   "metadata": {},
   "outputs": [
    {
     "name": "stdout",
     "output_type": "stream",
     "text": [
      "[2, 4, 6, 8, 10, 12, 14, 16, 18]\n"
     ]
    }
   ],
   "source": [
    "evenList=[i for i in range(2,20) if i%2==0] # List comprehension.\n",
    "print(evenList)"
   ]
  },
  {
   "cell_type": "markdown",
   "metadata": {},
   "source": [
    "## Using if and else in List comprehension"
   ]
  },
  {
   "cell_type": "code",
   "execution_count": 46,
   "metadata": {},
   "outputs": [
    {
     "name": "stdout",
     "output_type": "stream",
     "text": [
      "[0, 1, 1, 0, 0, 0, 0, 1, 1, 0, 1]\n"
     ]
    }
   ],
   "source": [
    "# I want to create a new list based on the following criteria.\n",
    "# if the value in the myList is less than 40 -> add 0\n",
    "# if the value in the myList is greater than 40 -> add 1\n",
    "\n",
    "myList=[12,50,48,5,4,6,2,78,45,13,74]\n",
    "newList=[0 if i<40 else 1 for i in myList ]\n",
    "print(newList)"
   ]
  },
  {
   "cell_type": "markdown",
   "metadata": {},
   "source": [
    "# Path"
   ]
  },
  {
   "cell_type": "code",
   "execution_count": null,
   "metadata": {},
   "outputs": [],
   "source": [
    "# My Definition.\n",
    "# Telling someone, where to go.\n",
    "# Relative path -> where to go from your current position.\n",
    "# Absolute path -> where to go from starting position."
   ]
  },
  {
   "cell_type": "markdown",
   "metadata": {},
   "source": [
    "# Relative path and Absolute path"
   ]
  },
  {
   "cell_type": "code",
   "execution_count": null,
   "metadata": {},
   "outputs": [],
   "source": [
    "# I am currently in the bacon folder.\n",
    "# Actual Starting position -> C:\\\n",
    "# dot -> current folder.\n",
    "# dot dot -> previous folder.\n"
   ]
  },
  {
   "cell_type": "markdown",
   "metadata": {},
   "source": [
    "# <img src=\"path.jpg\" style=\"height:300px;width:100%\">"
   ]
  },
  {
   "cell_type": "markdown",
   "metadata": {},
   "source": [
    "# Import statement"
   ]
  },
  {
   "cell_type": "code",
   "execution_count": null,
   "metadata": {},
   "outputs": [],
   "source": [
    "\"\"\"\n",
    "Python import statement enables the user to import\n",
    "particular modules in the corresponding program.\n",
    "\"\"\""
   ]
  },
  {
   "cell_type": "code",
   "execution_count": 47,
   "metadata": {},
   "outputs": [
    {
     "name": "stdout",
     "output_type": "stream",
     "text": [
      "Hello Sir\n",
      "This is my program.\n",
      "Dont copy my function.\n",
      "you can import it.\n",
      "27\n",
      "1.4142135623730951\n"
     ]
    }
   ],
   "source": [
    "# my_functions.py -> This is the name of this file.\n",
    "# These are the content in this file.\n",
    "def sayHello():\n",
    "    return \"Hello Sir\"\n",
    "def cube(num):\n",
    "    return num*num*num\n",
    "def root(number):\n",
    "    return number**0.5\n",
    "\n",
    "# The below codes run when this module is imported.\n",
    "\n",
    "print(sayHello())\n",
    "\n",
    "print(\"This is my program.\")\n",
    "print(\"Dont copy my function.\")\n",
    "print(\"you can import it.\")\n",
    "\n",
    "print(cube(3))\n",
    "print(root(2))"
   ]
  },
  {
   "cell_type": "markdown",
   "metadata": {},
   "source": [
    "# \\__name__ variable"
   ]
  },
  {
   "cell_type": "code",
   "execution_count": null,
   "metadata": {},
   "outputs": [],
   "source": [
    "\"\"\"\n",
    "I have two python file -> first.py and second.py\n",
    "\n",
    "when first.py is executed,\n",
    "the value of the __name__ variables in first.py is  \"__main__\"\n",
    "\n",
    "when the first.py is imported into second.py,\n",
    "the value of the __name__ in first.py is \"first\". \n",
    "\"\"\""
   ]
  },
  {
   "cell_type": "markdown",
   "metadata": {},
   "source": [
    "## Best method to create a module"
   ]
  },
  {
   "cell_type": "code",
   "execution_count": null,
   "metadata": {},
   "outputs": [],
   "source": [
    "# my_function.py -> This is the name of this file.\n",
    "# These are the content in this file.\n",
    "def sayHello():\n",
    "    return \"Hello Sir\"\n",
    "def cube(num):\n",
    "    return num*num*num\n",
    "def root(number):\n",
    "    return number**0.5\n",
    "\n",
    "# The below codes doesn't run when this module is imported.\n",
    "# But run, when this file is executed.\n",
    "\n",
    "if __name__==\"__main__\":\n",
    "    print(sayHello())\n",
    "\n",
    "    print(\"This is my program.\")\n",
    "    print(\"Dont copy my function.\")\n",
    "    print(\"you can import it.\")\n",
    "\n",
    "    print(cube(3))\n",
    "    print(root(2))"
   ]
  },
  {
   "cell_type": "markdown",
   "metadata": {},
   "source": [
    "## Simple import statement"
   ]
  },
  {
   "cell_type": "code",
   "execution_count": 1,
   "metadata": {},
   "outputs": [
    {
     "name": "stdout",
     "output_type": "stream",
     "text": [
      "Hello Sir\n",
      "This is my program.\n",
      "Dont copy my function.\n",
      "you can import it.\n",
      "27\n",
      "1.4142135623730951\n",
      "Hello Sir\n",
      "8000\n",
      "7.0710678118654755\n"
     ]
    }
   ],
   "source": [
    "import my_function\n",
    "\n",
    "print(my_function.sayHello())\n",
    "print(my_function.cube(20))\n",
    "print(my_function.root(50))\n"
   ]
  },
  {
   "cell_type": "markdown",
   "metadata": {},
   "source": [
    "# as keyword"
   ]
  },
  {
   "cell_type": "code",
   "execution_count": 48,
   "metadata": {},
   "outputs": [
    {
     "name": "stdout",
     "output_type": "stream",
     "text": [
      "Hello Sir\n",
      "8000\n",
      "7.0710678118654755\n"
     ]
    }
   ],
   "source": [
    "# as keyword help to use simple word instead of long name.\n",
    "import my_function as mf\n",
    "\n",
    "print(mf.sayHello())\n",
    "print(mf.cube(20))\n",
    "print(mf.root(50))"
   ]
  },
  {
   "cell_type": "markdown",
   "metadata": {},
   "source": [
    "# from and * keyword"
   ]
  },
  {
   "cell_type": "code",
   "execution_count": 49,
   "metadata": {},
   "outputs": [
    {
     "name": "stdout",
     "output_type": "stream",
     "text": [
      "Hello Sir\n",
      "8000\n",
      "7.0710678118654755\n"
     ]
    }
   ],
   "source": [
    "# * means all\n",
    "from my_function import *\n",
    "\n",
    "print(sayHello())\n",
    "print(cube(20))\n",
    "print(root(50))"
   ]
  },
  {
   "cell_type": "markdown",
   "metadata": {},
   "source": [
    "# Importing only necessary things"
   ]
  },
  {
   "cell_type": "code",
   "execution_count": 50,
   "metadata": {},
   "outputs": [
    {
     "name": "stdout",
     "output_type": "stream",
     "text": [
      "8000\n",
      "7.0710678118654755\n"
     ]
    }
   ],
   "source": [
    "# I didn't import the sayHello() function.\n",
    "# I don't need that fuction here.\n",
    "\n",
    "from my_function import root,cube\n",
    "print(cube(20))\n",
    "print(root(50))"
   ]
  },
  {
   "cell_type": "markdown",
   "metadata": {},
   "source": [
    "# Importing only necessary things and as keyword"
   ]
  },
  {
   "cell_type": "code",
   "execution_count": 51,
   "metadata": {
    "scrolled": true
   },
   "outputs": [
    {
     "name": "stdout",
     "output_type": "stream",
     "text": [
      "8000\n",
      "7.0710678118654755\n"
     ]
    }
   ],
   "source": [
    "from my_function import root as rt,cube as cb\n",
    "print(cb(20))\n",
    "print(rt(50))"
   ]
  },
  {
   "cell_type": "markdown",
   "metadata": {},
   "source": [
    "# module"
   ]
  },
  {
   "cell_type": "code",
   "execution_count": null,
   "metadata": {},
   "outputs": [],
   "source": [
    "# A python script can be called as a module."
   ]
  },
  {
   "cell_type": "markdown",
   "metadata": {},
   "source": [
    "## user defined modules"
   ]
  },
  {
   "cell_type": "code",
   "execution_count": null,
   "metadata": {},
   "outputs": [],
   "source": [
    "# module created by user."
   ]
  },
  {
   "cell_type": "markdown",
   "metadata": {},
   "source": [
    "## bultin module"
   ]
  },
  {
   "cell_type": "code",
   "execution_count": null,
   "metadata": {},
   "outputs": [],
   "source": [
    "# all modules that comes with the python installation."
   ]
  },
  {
   "cell_type": "markdown",
   "metadata": {},
   "source": [
    "# Some builtins module examples "
   ]
  },
  {
   "cell_type": "markdown",
   "metadata": {},
   "source": [
    "## random module"
   ]
  },
  {
   "cell_type": "code",
   "execution_count": 52,
   "metadata": {},
   "outputs": [
    {
     "name": "stdout",
     "output_type": "stream",
     "text": [
      "['BPF', 'LOG4', 'NV_MAGICCONST', 'RECIP_BPF', 'Random', 'SG_MAGICCONST', 'SystemRandom', 'TWOPI', '_BuiltinMethodType', '_MethodType', '_Sequence', '_Set', '__all__', '__builtins__', '__cached__', '__doc__', '__file__', '__loader__', '__name__', '__package__', '__spec__', '_acos', '_bisect', '_ceil', '_cos', '_e', '_exp', '_inst', '_itertools', '_log', '_pi', '_random', '_sha512', '_sin', '_sqrt', '_test', '_test_generator', '_urandom', '_warn', 'betavariate', 'choice', 'choices', 'expovariate', 'gammavariate', 'gauss', 'getrandbits', 'getstate', 'lognormvariate', 'normalvariate', 'paretovariate', 'randint', 'random', 'randrange', 'sample', 'seed', 'setstate', 'shuffle', 'triangular', 'uniform', 'vonmisesvariate', 'weibullvariate']\n"
     ]
    }
   ],
   "source": [
    "# Printing all functions in the random module.\n",
    "# Dont think too much! Search google for more details.\n",
    "import random\n",
    "print(dir(random))"
   ]
  },
  {
   "cell_type": "code",
   "execution_count": 53,
   "metadata": {},
   "outputs": [
    {
     "name": "stdout",
     "output_type": "stream",
     "text": [
      "94\n",
      "3\n",
      "79\n",
      "54\n",
      "16\n"
     ]
    }
   ],
   "source": [
    "# This module is related with random number.\n",
    "import random\n",
    "\n",
    "# Generating 5 random number\n",
    "for i in range(5):\n",
    "    print(random.randint(1,101))"
   ]
  },
  {
   "cell_type": "code",
   "execution_count": 56,
   "metadata": {},
   "outputs": [
    {
     "name": "stdout",
     "output_type": "stream",
     "text": [
      "suzuki\n",
      "suzuki\n",
      "nano\n",
      "bmw\n",
      "bmw\n"
     ]
    }
   ],
   "source": [
    "# Getting a random item from the list.\n",
    "import random\n",
    "car=[\"maruti\",\"honda\",\"fiat\",\"bmw\",\"jaguar\",\"suzuki\",\"alto\",\"nano\"]\n",
    "for i in range(5):\n",
    "    print(car[random.randint(0,7)]) # using slice and randint"
   ]
  },
  {
   "cell_type": "code",
   "execution_count": 57,
   "metadata": {},
   "outputs": [
    {
     "name": "stdout",
     "output_type": "stream",
     "text": [
      "nano\n",
      "nano\n",
      "suzuki\n",
      "maruti\n",
      "jaguar\n"
     ]
    }
   ],
   "source": [
    "# Selecting 5 random item from the list\n",
    "car=[\"maruti\",\"honda\",\"fiat\",\"bmw\",\"jaguar\",\"suzuki\",\"alto\",\"nano\"]\n",
    "\n",
    "for i in range(5):\n",
    "    print(random.choice(car))"
   ]
  },
  {
   "cell_type": "code",
   "execution_count": 59,
   "metadata": {},
   "outputs": [
    {
     "name": "stdout",
     "output_type": "stream",
     "text": [
      "1 ['nano', 'honda', 'fiat', 'alto', 'suzuki', 'jaguar', 'bmw', 'maruti']\n",
      "2 ['bmw', 'fiat', 'nano', 'jaguar', 'maruti', 'honda', 'suzuki', 'alto']\n",
      "3 ['nano', 'honda', 'suzuki', 'fiat', 'jaguar', 'maruti', 'bmw', 'alto']\n",
      "4 ['bmw', 'suzuki', 'maruti', 'nano', 'alto', 'fiat', 'jaguar', 'honda']\n",
      "5 ['bmw', 'nano', 'alto', 'jaguar', 'suzuki', 'maruti', 'fiat', 'honda']\n"
     ]
    }
   ],
   "source": [
    "# Shuffling a list 5 times and printing the list.\n",
    "\n",
    "car=[\"maruti\",\"honda\",\"fiat\",\"bmw\",\"jaguar\",\"suzuki\",\"alto\",\"nano\"]\n",
    "for i in range(1,6):\n",
    "    random.shuffle(car)\n",
    "    print(i,car)\n",
    "\n"
   ]
  },
  {
   "cell_type": "markdown",
   "metadata": {},
   "source": [
    "# math module"
   ]
  },
  {
   "cell_type": "code",
   "execution_count": 11,
   "metadata": {},
   "outputs": [
    {
     "name": "stdout",
     "output_type": "stream",
     "text": [
      "['__doc__', '__loader__', '__name__', '__package__', '__spec__', 'acos', 'acosh', 'asin', 'asinh', 'atan', 'atan2', 'atanh', 'ceil', 'copysign', 'cos', 'cosh', 'degrees', 'e', 'erf', 'erfc', 'exp', 'expm1', 'fabs', 'factorial', 'floor', 'fmod', 'frexp', 'fsum', 'gamma', 'gcd', 'hypot', 'inf', 'isclose', 'isfinite', 'isinf', 'isnan', 'ldexp', 'lgamma', 'log', 'log10', 'log1p', 'log2', 'modf', 'nan', 'pi', 'pow', 'radians', 'sin', 'sinh', 'sqrt', 'tan', 'tanh', 'tau', 'trunc']\n"
     ]
    }
   ],
   "source": [
    "# printing all function in the math module\n",
    "import math\n",
    "print(dir(math))"
   ]
  },
  {
   "cell_type": "markdown",
   "metadata": {},
   "source": [
    "## Some functions in the math module"
   ]
  },
  {
   "cell_type": "code",
   "execution_count": 60,
   "metadata": {},
   "outputs": [
    {
     "name": "stdout",
     "output_type": "stream",
     "text": [
      "6.0\n",
      "-45.18308791052113\n",
      "8.0\n",
      "2432902008176640000\n"
     ]
    }
   ],
   "source": [
    "print(math.sqrt(36)) # printing the root of 36.\n",
    "print(math.tan(55)) # Printing the tan value of 55.\n",
    "print(math.pow(2,3)) # Finding the 2^3\n",
    "print(math.factorial(20)) # Print the factorial of 100\n"
   ]
  },
  {
   "cell_type": "markdown",
   "metadata": {},
   "source": [
    "# Some variables in the math module"
   ]
  },
  {
   "cell_type": "code",
   "execution_count": 61,
   "metadata": {},
   "outputs": [
    {
     "name": "stdout",
     "output_type": "stream",
     "text": [
      "3.141592653589793\n",
      "2.718281828459045\n"
     ]
    }
   ],
   "source": [
    "# These are not functions, these are variables in the math module\n",
    "# NOTE -> () is not added at the end.\n",
    "print(math.pi) # print the value of the pi.\n",
    "print(math.e)  # print the value of e"
   ]
  },
  {
   "cell_type": "markdown",
   "metadata": {},
   "source": [
    "## Using the help function"
   ]
  },
  {
   "cell_type": "code",
   "execution_count": 62,
   "metadata": {},
   "outputs": [
    {
     "name": "stdout",
     "output_type": "stream",
     "text": [
      "Help on built-in function gcd in module math:\n",
      "\n",
      "gcd(...)\n",
      "    gcd(x, y) -> int\n",
      "    greatest common divisor of x and y\n",
      "\n",
      "None\n"
     ]
    }
   ],
   "source": [
    "# I want to know about the gcd function in the math module.\n",
    "\n",
    "print(help(math.gcd))  # To know how gcd works\n",
    "\n",
    "# Same as finding the HCF of 2 numbers\n",
    "# HCF -> Highest common factor."
   ]
  },
  {
   "cell_type": "code",
   "execution_count": 18,
   "metadata": {},
   "outputs": [
    {
     "name": "stdout",
     "output_type": "stream",
     "text": [
      "3\n"
     ]
    }
   ],
   "source": [
    "# Example\n",
    "import math\n",
    "print(math.gcd(12,9)) # Find the HCF of 9 and 12"
   ]
  },
  {
   "cell_type": "markdown",
   "metadata": {},
   "source": [
    "# Builtin modules and user defined modules"
   ]
  },
  {
   "cell_type": "code",
   "execution_count": 30,
   "metadata": {},
   "outputs": [],
   "source": [
    "# Modules available with python installations-> Builtin module\n",
    "# Modules created by user -> user defined modules."
   ]
  },
  {
   "cell_type": "markdown",
   "metadata": {},
   "source": [
    "# time module"
   ]
  },
  {
   "cell_type": "code",
   "execution_count": 33,
   "metadata": {
    "scrolled": true
   },
   "outputs": [
    {
     "name": "stdout",
     "output_type": "stream",
     "text": [
      "['_STRUCT_TM_ITEMS', '__doc__', '__loader__', '__name__', '__package__', '__spec__', 'altzone', 'asctime', 'clock', 'ctime', 'daylight', 'get_clock_info', 'gmtime', 'localtime', 'mktime', 'monotonic', 'perf_counter', 'process_time', 'sleep', 'strftime', 'strptime', 'struct_time', 'time', 'timezone', 'tzname']\n"
     ]
    }
   ],
   "source": [
    "# Printing all function in the time module.\n",
    "import time\n",
    "print(dir(time))"
   ]
  },
  {
   "cell_type": "markdown",
   "metadata": {},
   "source": [
    "## time.time()"
   ]
  },
  {
   "cell_type": "code",
   "execution_count": null,
   "metadata": {},
   "outputs": [],
   "source": [
    "\"\"\"\n",
    "time.time() method of Time module is used to get the time in seconds\n",
    "since epoch. The handling of leap seconds is platform dependent.\n",
    "\n",
    "Note: The epoch is the point where the time starts, and is platform\n",
    "dependent. On Windows and most Unix systems,\n",
    "the epoch is January 1, 1970, 00:00:00 (UTC)\n",
    "and leap seconds are not counted towards the time in seconds\n",
    "since the epoch. \"\"\""
   ]
  },
  {
   "cell_type": "code",
   "execution_count": 63,
   "metadata": {},
   "outputs": [
    {
     "name": "stdout",
     "output_type": "stream",
     "text": [
      "1595256277.3167164\n",
      "Waiting\n",
      "1595256282.3168912\n"
     ]
    }
   ],
   "source": [
    "print(time.time()) # total time elapsed in float, after January 1, 1970\n",
    "print(\"Waiting\")\n",
    "time.sleep(5) # Program sleep for 5 second.\n",
    "print(time.time()) "
   ]
  },
  {
   "cell_type": "markdown",
   "metadata": {},
   "source": [
    "# Calculating time taken to execute a program"
   ]
  },
  {
   "cell_type": "code",
   "execution_count": 64,
   "metadata": {},
   "outputs": [
    {
     "name": "stdout",
     "output_type": "stream",
     "text": [
      "Hello\n",
      "Hello\n",
      "Hello\n",
      "Hello\n",
      "Hello\n",
      "Hello\n",
      "Hello\n",
      "Hello\n",
      "Hello\n",
      "Hello\n",
      "Hello\n",
      "Hello\n",
      "Hello\n",
      "Hello\n",
      "Hello\n",
      "Hello\n",
      "Hello\n",
      "Hello\n",
      "Hello\n",
      "Hello\n",
      "Total time taken: 0.0019979476928710938\n"
     ]
    }
   ],
   "source": [
    "import time\n",
    "starting_time=time.time()\n",
    "for i in range(20):\n",
    "    print(\"HELLO\".title())\n",
    "ending_time=time.time()\n",
    "\n",
    "print(\"Total time taken:\",ending_time-starting_time)"
   ]
  },
  {
   "cell_type": "markdown",
   "metadata": {},
   "source": [
    "# builtins modules"
   ]
  },
  {
   "cell_type": "code",
   "execution_count": 32,
   "metadata": {},
   "outputs": [
    {
     "name": "stdout",
     "output_type": "stream",
     "text": [
      "['ArithmeticError', 'AssertionError', 'AttributeError', 'BaseException', 'BlockingIOError', 'BrokenPipeError', 'BufferError', 'BytesWarning', 'ChildProcessError', 'ConnectionAbortedError', 'ConnectionError', 'ConnectionRefusedError', 'ConnectionResetError', 'DeprecationWarning', 'EOFError', 'Ellipsis', 'EnvironmentError', 'Exception', 'False', 'FileExistsError', 'FileNotFoundError', 'FloatingPointError', 'FutureWarning', 'GeneratorExit', 'IOError', 'ImportError', 'ImportWarning', 'IndentationError', 'IndexError', 'InterruptedError', 'IsADirectoryError', 'KeyError', 'KeyboardInterrupt', 'LookupError', 'MemoryError', 'ModuleNotFoundError', 'NameError', 'None', 'NotADirectoryError', 'NotImplemented', 'NotImplementedError', 'OSError', 'OverflowError', 'PendingDeprecationWarning', 'PermissionError', 'ProcessLookupError', 'RecursionError', 'ReferenceError', 'ResourceWarning', 'RuntimeError', 'RuntimeWarning', 'StopAsyncIteration', 'StopIteration', 'SyntaxError', 'SyntaxWarning', 'SystemError', 'SystemExit', 'TabError', 'TimeoutError', 'True', 'TypeError', 'UnboundLocalError', 'UnicodeDecodeError', 'UnicodeEncodeError', 'UnicodeError', 'UnicodeTranslateError', 'UnicodeWarning', 'UserWarning', 'ValueError', 'Warning', 'WindowsError', 'ZeroDivisionError', '__IPYTHON__', '__build_class__', '__debug__', '__doc__', '__import__', '__loader__', '__name__', '__package__', '__spec__', 'abs', 'all', 'any', 'ascii', 'bin', 'bool', 'bytearray', 'bytes', 'callable', 'chr', 'classmethod', 'compile', 'complex', 'copyright', 'credits', 'delattr', 'dict', 'dir', 'display', 'divmod', 'enumerate', 'eval', 'exec', 'filter', 'float', 'format', 'frozenset', 'get_ipython', 'getattr', 'globals', 'hasattr', 'hash', 'help', 'hex', 'id', 'input', 'int', 'isinstance', 'issubclass', 'iter', 'len', 'license', 'list', 'locals', 'map', 'max', 'memoryview', 'min', 'next', 'object', 'oct', 'open', 'ord', 'pow', 'print', 'property', 'range', 'repr', 'reversed', 'round', 'set', 'setattr', 'slice', 'sorted', 'staticmethod', 'str', 'sum', 'super', 'tuple', 'type', 'vars', 'zip']\n"
     ]
    }
   ],
   "source": [
    "# Ready to use functions are available from builtins module.\n",
    "# This module is already imported when you execute a python script.\n",
    "# Printing functions in the builtins module.\n",
    "import builtins\n",
    "\n",
    "print(dir(builtins))\n",
    "# note down->len,print,pow,max,str,int,list,min,range..."
   ]
  },
  {
   "cell_type": "code",
   "execution_count": null,
   "metadata": {},
   "outputs": [],
   "source": []
  },
  {
   "cell_type": "code",
   "execution_count": null,
   "metadata": {},
   "outputs": [],
   "source": []
  }
 ],
 "metadata": {
  "kernelspec": {
   "display_name": "Python 3.6.6 64-bit",
   "language": "python",
   "name": "python36664bit55ef76e89a7a4ab497db6aec0bf721a3"
  },
  "language_info": {
   "codemirror_mode": {
    "name": "ipython",
    "version": 3
   },
   "file_extension": ".py",
   "mimetype": "text/x-python",
   "name": "python",
   "nbconvert_exporter": "python",
   "pygments_lexer": "ipython3",
   "version": "3.6.6"
  }
 },
 "nbformat": 4,
 "nbformat_minor": 4
}
