{
 "cells": [
  {
   "cell_type": "markdown",
   "metadata": {},
   "source": [
    "# PRODDEC PYTHON DAY 10"
   ]
  },
  {
   "cell_type": "markdown",
   "metadata": {},
   "source": [
    "# Detect face from the image"
   ]
  },
  {
   "cell_type": "markdown",
   "metadata": {},
   "source": [
    "## STEPS:"
   ]
  },
  {
   "cell_type": "markdown",
   "metadata": {},
   "source": [
    "1.Download haarcascade file for frontal face from the\n",
    "opencv github page.\n",
    "> https://github.com/opencv/opencv/tree/master/data/haarcascades\n",
    "\n",
    "2.Download hd images image for face detection.\n",
    "\n",
    "3.Run the code and enjoy.\n",
    "\n",
    "Additional link 1: - face detection using opencv\n",
    "> https://www.datacamp.com/community/tutorials/face-detection-python-opencv\n",
    "\n",
    "> https://www.pythonpool.com/face-detection-using-opencv-and-python/\n",
    "\n",
    "Additional link 2: - name the certificate application.\n",
    "> https://www.youtube.com/channel/UCvzLCuUAHHeTpGhc1Vewsuw\n",
    "\n",
    "> https://drive.google.com/file/d/1IBUTAgzINew5bMKXy_54rg2lQtSsKPT5/view\n"
   ]
  },
  {
   "cell_type": "markdown",
   "metadata": {},
   "source": [
    "## Code for face detection from image"
   ]
  },
  {
   "cell_type": "code",
   "execution_count": 13,
   "metadata": {},
   "outputs": [],
   "source": [
    "import cv2\n",
    "\n",
    "# Reading cricketer image.\n",
    "img = cv2.imread(\"cricketer.jpg\")\n",
    "\n",
    "# Converting to gray\n",
    "gray = cv2.cvtColor(img,cv2.COLOR_BGR2GRAY)\n",
    "\n",
    "# Initialize the face recognizer (default face haar cascade)\n",
    "face_cascade = cv2.CascadeClassifier(\"haarcascade_fontalface_default.xml\")\n",
    "\n",
    "# Detect all the faces in the image\n",
    "faces = face_cascade.detectMultiScale(gray, 1.3, 5)\n",
    "\n",
    "# For every face, draw a green rectangle\n",
    "for x, y, w, h in faces:\n",
    "    cv2.rectangle(img,(x, y),(x + w, y + h),(0, 255,0),thickness=2)\n",
    "    cv2.putText(img,\"people\",(x,y-10),cv2.FONT_HERSHEY_SIMPLEX,1,(0,255,0),2)\n",
    "\n",
    "    \n",
    "cv2.imwrite(\"detection-image.jpg\",img)\n",
    "cv2.imshow(\"detection image\", img)\n",
    "cv2.waitKey(0)\n",
    "cv2.destroyWindow(\"detection image\")"
   ]
  },
  {
   "cell_type": "markdown",
   "metadata": {},
   "source": [
    "<img src=\"cricketer.jpg\" style=\"height:360px;width:640px\">"
   ]
  },
  {
   "cell_type": "markdown",
   "metadata": {},
   "source": [
    "<img src=\"detection-image.jpg\" style=\"height:360px;width:640px\">"
   ]
  },
  {
   "cell_type": "markdown",
   "metadata": {},
   "source": [
    "# Code for live face detection from camera/video"
   ]
  },
  {
   "cell_type": "code",
   "execution_count": 18,
   "metadata": {},
   "outputs": [],
   "source": [
    "import cv2\n",
    "\n",
    "# Create a new cam object\n",
    "cap = cv2.VideoCapture(0)\n",
    "\n",
    "# Initialize the face recognizer (default face haar cascade)\n",
    "face_cascade = cv2.CascadeClassifier(\"haarcascade_fontalface_default.xml\")\n",
    "while(cap.isOpened()):\n",
    "    # Read the image from the cam\n",
    "    ret, image = cap.read()\n",
    "    if ret==True:\n",
    "        # Converting to grayscale\n",
    "        image_gray = cv2.cvtColor(image, cv2.COLOR_BGR2GRAY)\n",
    "        \n",
    "        # Detect all the faces in the image\n",
    "        faces = face_cascade.detectMultiScale(image_gray, 1.3, 5)\n",
    "        \n",
    "        # For every face, draw a red rectangle.\n",
    "        for x, y, w, h in faces:\n",
    "            cv2.rectangle(image, (x, y), (x + w, y + h),(0, 0, 255),2)\n",
    "        cv2.imshow(\"video frame\", image)\n",
    "        \n",
    "        # If q button is pressed, quit.\n",
    "        if cv2.waitKey(1) == ord(\"q\"):\n",
    "            break\n",
    "    else:\n",
    "        break\n",
    "cap.release()\n",
    "cv2.destroyAllWindows()"
   ]
  },
  {
   "cell_type": "code",
   "execution_count": null,
   "metadata": {},
   "outputs": [],
   "source": []
  },
  {
   "cell_type": "code",
   "execution_count": null,
   "metadata": {},
   "outputs": [],
   "source": []
  }
 ],
 "metadata": {
  "kernelspec": {
   "display_name": "Python 3.6.6 64-bit",
   "language": "python",
   "name": "python36664bit55ef76e89a7a4ab497db6aec0bf721a3"
  },
  "language_info": {
   "codemirror_mode": {
    "name": "ipython",
    "version": 3
   },
   "file_extension": ".py",
   "mimetype": "text/x-python",
   "name": "python",
   "nbconvert_exporter": "python",
   "pygments_lexer": "ipython3",
   "version": "3.6.6"
  }
 },
 "nbformat": 4,
 "nbformat_minor": 4
}
