{
 "cells": [
  {
   "cell_type": "markdown",
   "metadata": {},
   "source": [
    "# PRODDEC PYTHON DAY 3"
   ]
  },
  {
   "cell_type": "markdown",
   "metadata": {},
   "source": [
    "# String Slicing"
   ]
  },
  {
   "cell_type": "code",
   "execution_count": 1,
   "metadata": {},
   "outputs": [
    {
     "name": "stdout",
     "output_type": "stream",
     "text": [
      "g\n",
      "i\n",
      "e\n",
      "f\n",
      "ir\n",
      "iraffe\n",
      "gira\n",
      "grfe\n",
      "effarig\n",
      "efrg\n"
     ]
    }
   ],
   "source": [
    "# Slicing -> Cutting out portion of a string.\n",
    "\n",
    "animal='giraffe'\n",
    "print(animal[0]) # Print the first letter of the string.\n",
    "print(animal[1]) # Print the second  letter of the string.\n",
    "print(animal[-1]) # Print last letter of the string.\n",
    "print(animal[-2]) # Print second last letter of the string.\n",
    "print(animal[1:3]) # Print portion of the string.\n",
    "print(animal[1:])  # Printing from the second letter onwards.\n",
    "print(animal[:4])  # Print upto 4th letter.\n",
    "\n",
    "# Exclusive offer\n",
    "print(animal[::2]) # Print odd position character in string.\n",
    "print(animal[::-1]) # Reverse a string.\n",
    "print(animal[::-2]) # Reverse a string and print odd position character."
   ]
  },
  {
   "cell_type": "markdown",
   "metadata": {},
   "source": [
    "# Methods"
   ]
  },
  {
   "cell_type": "code",
   "execution_count": null,
   "metadata": {},
   "outputs": [],
   "source": [
    "# It's a function in a class."
   ]
  },
  {
   "cell_type": "code",
   "execution_count": 2,
   "metadata": {},
   "outputs": [
    {
     "name": "stdout",
     "output_type": "stream",
     "text": [
      "PETER\n",
      "peter\n"
     ]
    }
   ],
   "source": [
    "name=\"peter\"\n",
    "print(name.upper())  # Convert to uppercase.\n",
    "print(name)"
   ]
  },
  {
   "cell_type": "code",
   "execution_count": 2,
   "metadata": {},
   "outputs": [
    {
     "name": "stdout",
     "output_type": "stream",
     "text": [
      "david abraham\n",
      "David Abraham\n",
      "David abraham\n"
     ]
    }
   ],
   "source": [
    "name=\"DAVID ABRAHAM\"\n",
    "print(name.lower()) # Lowercase letter\n",
    "print(name.title()) # First letter of each word->uppercase\n",
    "print(name.capitalize()) # Only first letter ->upper case"
   ]
  },
  {
   "cell_type": "code",
   "execution_count": 28,
   "metadata": {},
   "outputs": [
    {
     "name": "stdout",
     "output_type": "stream",
     "text": [
      "pETER dAVIDSON\n",
      "True\n",
      "False\n"
     ]
    }
   ],
   "source": [
    "name=\"Peter Davidson\"\n",
    "print(name.swapcase()) # Change uppercase to lowercase and viceversa.\n",
    "print(name.startswith('P')) # Return True or False\n",
    "print(name.endswith('f'))  # Return True or False."
   ]
  },
  {
   "cell_type": "code",
   "execution_count": 2,
   "metadata": {},
   "outputs": [
    {
     "name": "stdout",
     "output_type": "stream",
     "text": [
      "Peter hai\n",
      "       Peter hai\n",
      "Peter        hai\n"
     ]
    }
   ],
   "source": [
    "name=\"       Peter       \"\n",
    "print(name.strip(),\"hai\") # Cut off the spaces on right and left.\n",
    "print(name.rstrip(),\"hai\") # Cut off the spaces on the right.\n",
    "print(name.lstrip(),\"hai\") # Cut off the spaces on the left."
   ]
  },
  {
   "cell_type": "code",
   "execution_count": 1,
   "metadata": {},
   "outputs": [
    {
     "name": "stdout",
     "output_type": "stream",
     "text": [
      "          vargheese            tea\n",
      "      vargheese\n",
      "vargheese            hai\n",
      "bargheese\n",
      "3\n",
      "3\n"
     ]
    }
   ],
   "source": [
    "name=\"vargheese\"\n",
    "print(name.center(30),\"tea\") # Centre aligned by adding space to left and right.\n",
    "print(name.rjust(15))        # Fill space to the left -> right aligned.\n",
    "print(name.ljust(20),\"hai\")  # Fill space to right -> left aligned.\n",
    "print(name.replace(\"v\",\"b\")) # Replace t with b.\n",
    "print(name.count(\"e\"))       # Count the e in the string.\n",
    "print(name.index(\"g\"))       # Return the location of the g in string."
   ]
  },
  {
   "cell_type": "code",
   "execution_count": 3,
   "metadata": {},
   "outputs": [
    {
     "name": "stdout",
     "output_type": "stream",
     "text": [
      "Hari is studying in CEC\n",
      "Hari is studying in CEC\n",
      "Hari is studying in CEC\n",
      "Hari is studying in CEC\n"
     ]
    }
   ],
   "source": [
    "# String formatting\n",
    "name=\"Hari\"\n",
    "college=\"CEC\"\n",
    "print(\"{} is studying in {}\".format(name,college))\n",
    "print(\"%s is studying in %s\" %(name,college))\n",
    "print(name,\"is studying in\",college)\n",
    "print(name + \" is studying in \" + college)"
   ]
  },
  {
   "cell_type": "code",
   "execution_count": 6,
   "metadata": {},
   "outputs": [
    {
     "name": "stdout",
     "output_type": "stream",
     "text": [
      "False\n",
      "True\n",
      "True\n",
      "00000000000000000000000000alen\n"
     ]
    }
   ],
   "source": [
    "name=\"alen\"\n",
    "print(name.isnumeric()) # Check if string consist of numeric character.\n",
    "print(name.isalpha())   # Check if string is a alphabet.\n",
    "print(name.islower())    # Check string is lower case alphabets.\n",
    "print(name.zfill(30))  # Fill zero before string."
   ]
  },
  {
   "cell_type": "markdown",
   "metadata": {},
   "source": [
    "# Logical operator"
   ]
  },
  {
   "cell_type": "code",
   "execution_count": 58,
   "metadata": {},
   "outputs": [
    {
     "name": "stdout",
     "output_type": "stream",
     "text": [
      "You are haris and age is 20.\n"
     ]
    }
   ],
   "source": [
    "# and operator ->both condition must be True.\n",
    "name=\"haris\"\n",
    "age=20\n",
    "if name==\"haris\" and age==20:\n",
    "    print(\"You are haris and age is 20.\")"
   ]
  },
  {
   "cell_type": "code",
   "execution_count": 59,
   "metadata": {},
   "outputs": [
    {
     "name": "stdout",
     "output_type": "stream",
     "text": [
      "you are haris or your college is CEC.\n"
     ]
    }
   ],
   "source": [
    "# or operator -> one of the condition should be True\n",
    "name=\"haris\"\n",
    "college=\"CEC\"\n",
    "if name==\"haris\" or college==\"CEC\":\n",
    "    print(\"you are haris or your college is CEC.\")"
   ]
  },
  {
   "cell_type": "code",
   "execution_count": 7,
   "metadata": {},
   "outputs": [
    {
     "name": "stdout",
     "output_type": "stream",
     "text": [
      "You are female.\n"
     ]
    }
   ],
   "source": [
    "# not operator\n",
    "isMale=True\n",
    "\n",
    "if not(isMale):\n",
    "    print(\"You are Male.\")\n",
    "else:\n",
    "    print(\"You are female.\")"
   ]
  },
  {
   "cell_type": "markdown",
   "metadata": {},
   "source": [
    "# Membership operator"
   ]
  },
  {
   "cell_type": "code",
   "execution_count": 48,
   "metadata": {},
   "outputs": [
    {
     "name": "stdout",
     "output_type": "stream",
     "text": [
      "The animal is giraffe\n"
     ]
    }
   ],
   "source": [
    "# in operator\n",
    "animal=\"giraffe\"\n",
    "if \"raff\" in animal:\n",
    "    print(\"The animal is giraffe\")"
   ]
  },
  {
   "cell_type": "code",
   "execution_count": 65,
   "metadata": {},
   "outputs": [
    {
     "name": "stdout",
     "output_type": "stream",
     "text": [
      "You are driving autorickshaw\n"
     ]
    }
   ],
   "source": [
    "# (not in) operator.\n",
    "vehicle=\"autorikshaw\"\n",
    "if \"rikshaw\" not in vehicle:\n",
    "    print(\"You are using some other vehicle\")\n",
    "else:\n",
    "    print(\"You are driving autorickshaw\")"
   ]
  },
  {
   "cell_type": "markdown",
   "metadata": {},
   "source": [
    "# LIST"
   ]
  },
  {
   "cell_type": "code",
   "execution_count": 8,
   "metadata": {},
   "outputs": [
    {
     "name": "stdout",
     "output_type": "stream",
     "text": [
      "['carrot', 'onion', 'cabbage', 'milk', 'egg']\n",
      "5\n",
      "carrot\n",
      "cabbage\n",
      "egg\n",
      "['carrot', 'onion', 'cabbage']\n",
      "['carrot', 'onion', 'cabbage']\n",
      "['cabbage', 'milk', 'egg']\n",
      "['egg', 'milk', 'cabbage', 'onion', 'carrot']\n"
     ]
    }
   ],
   "source": [
    "# For storing multiple values in a single variable.\n",
    "\n",
    "shoppingList=[\"carrot\",\"onion\",\"cabbage\",\"milk\",\"egg\"]\n",
    "print(shoppingList)\n",
    "\n",
    "print(len(shoppingList))  # Printing the length of the list.\n",
    "\n",
    "# LIST SLICING\n",
    "print(shoppingList[0])    # Getting the first element in the list.\n",
    "print(shoppingList[2])    # Getting the third element in the list.\n",
    "print(shoppingList[-1])   # Getting the last element in the list.\n",
    "print(shoppingList[0:-2]) # Printing upto second last element in the list.\n",
    "print(shoppingList[:-2])  # Printing upto second last element in the list.\n",
    "print(shoppingList[2:])   # Printing from second element in the list.\n",
    "print(shoppingList[::-1]) # Reverse the items in the list"
   ]
  },
  {
   "cell_type": "markdown",
   "metadata": {},
   "source": [
    "# Methods in List"
   ]
  },
  {
   "cell_type": "code",
   "execution_count": 9,
   "metadata": {},
   "outputs": [
    {
     "name": "stdout",
     "output_type": "stream",
     "text": [
      "2\n",
      "['carrot', 'onion', 'cabbage', 'milk', 'egg', 'ghee']\n",
      "['carrot', 'onion', 'cabbage', 'milk', 'egg']\n",
      "['carrot', 'onion', 'cabbage', 'coffee', 'milk', 'egg']\n",
      "['carrot', 'onion', 'cabbage', 'coffee', 'milk', 'egg', 'watch', 'socks', 'toys', 'pen', 'milk']\n",
      "2\n",
      "['milk', 'pen', 'toys', 'socks', 'watch', 'egg', 'milk', 'coffee', 'cabbage', 'onion', 'carrot']\n",
      "['milk', 'pen', 'toys', 'socks', 'watch', 'egg', 'milk', 'coffee', 'onion', 'carrot']\n",
      "[]\n"
     ]
    }
   ],
   "source": [
    "shoppingList=[\"carrot\",\"onion\",\"cabbage\",\"milk\",\"egg\"]\n",
    "\n",
    "babyShopping=[\"watch\",\"socks\",\"toys\",\"pen\",\"milk\"]\n",
    "\n",
    "print(shoppingList.index(\"cabbage\")) # Getting the index of cabbage.\n",
    "\n",
    "\n",
    "shoppingList.append(\"ghee\") # Adding an item to list\n",
    "print(shoppingList)\n",
    "\n",
    "shoppingList.pop()  # Removing the last element from the list.\n",
    "print(shoppingList)\n",
    "\n",
    "shoppingList.insert(3,\"coffee\") # insert coffee at 3rd index.\n",
    "print(shoppingList)\n",
    "\n",
    "shoppingList.extend(babyShopping) # Adding a new list to old list.\n",
    "print(shoppingList)\n",
    "\n",
    "print(shoppingList.count(\"milk\")) # Count an item in the list.\n",
    "\n",
    "shoppingList.reverse() # Reversing the list.\n",
    "print(shoppingList)\n",
    "\n",
    "shoppingList.remove(\"cabbage\") # Removing an item from the list\n",
    "print(shoppingList)\n",
    "\n",
    "shoppingList.clear() # Clear the items in the list\n",
    "print(shoppingList)"
   ]
  },
  {
   "cell_type": "markdown",
   "metadata": {},
   "source": [
    "# Membership operator in list"
   ]
  },
  {
   "cell_type": "code",
   "execution_count": 6,
   "metadata": {},
   "outputs": [
    {
     "name": "stdout",
     "output_type": "stream",
     "text": [
      "bmw is available here.\n"
     ]
    }
   ],
   "source": [
    "car=[\"ferari\",\"fiat\",\"oddy\",\"bmw\",\"jaguar\"]\n",
    "\n",
    "if \"bmw\" in car:\n",
    "    print(\"bmw is available here.\")\n",
    "else:\n",
    "    print(\"Please choose another car.\")"
   ]
  },
  {
   "cell_type": "markdown",
   "metadata": {},
   "source": [
    "# TUPLE"
   ]
  },
  {
   "cell_type": "code",
   "execution_count": 3,
   "metadata": {},
   "outputs": [
    {
     "name": "stdout",
     "output_type": "stream",
     "text": [
      "<class 'tuple'>\n",
      "6\n",
      "2\n",
      "2\n"
     ]
    }
   ],
   "source": [
    "# Same as list\n",
    "# Tuple are immutable ->Once created we cant add anything or change. \n",
    "# Tuple is fast compared to list.\n",
    "\n",
    "car=(\"ferari\",\"fiat\",\"oddy\",\"bmw\",\"jaguar\",\"oddy\")\n",
    "\n",
    "print(type(car))         # print type of datatype\n",
    "print(len(car))          # Getting the length of the tuple.\n",
    "print(car.index(\"oddy\")) # Getting the index of the oddy.\n",
    "print(car.count(\"oddy\")) # Getting the count of an item in tuple."
   ]
  },
  {
   "cell_type": "markdown",
   "metadata": {},
   "source": [
    "## Slicing in tuple"
   ]
  },
  {
   "cell_type": "code",
   "execution_count": 7,
   "metadata": {},
   "outputs": [
    {
     "name": "stdout",
     "output_type": "stream",
     "text": [
      "ferari\n",
      "jaguar\n"
     ]
    }
   ],
   "source": [
    "# Slicing in tuple\n",
    "\n",
    "print(car[0]) # Getting the first element in the tuple\n",
    "print(car[-1]) # Printing the last element in the tuple.\n"
   ]
  },
  {
   "cell_type": "markdown",
   "metadata": {},
   "source": [
    "# Functions in python"
   ]
  },
  {
   "cell_type": "code",
   "execution_count": 11,
   "metadata": {},
   "outputs": [
    {
     "name": "stdout",
     "output_type": "stream",
     "text": [
      "Welcome to the show\n",
      "Please be seated\n",
      "Function will start in 5 minutes\n",
      "Welcome to the show\n",
      "Please be seated\n",
      "Function will start in 5 minutes\n",
      "Welcome to the show\n",
      "Please be seated\n",
      "Function will start in 5 minutes\n"
     ]
    }
   ],
   "source": [
    "# Creating a basic function\n",
    "# Functions are used for avoiding repeated code.\n",
    "# Help to organise code.\n",
    "\n",
    "def sayHello():\n",
    "    print(\"Welcome to the show\")\n",
    "    print(\"Please be seated\")\n",
    "    print(\"Function will start in 5 minutes\")\n",
    "\n",
    "sayHello()\n",
    "sayHello()\n",
    "sayHello()\n"
   ]
  },
  {
   "cell_type": "code",
   "execution_count": 96,
   "metadata": {},
   "outputs": [
    {
     "name": "stdout",
     "output_type": "stream",
     "text": [
      "Hello Peter, welcome to the show.\n",
      "Thanks for waiting\n",
      "Hello David, welcome to the show.\n",
      "Thanks for waiting\n",
      "Hello John, welcome to the show.\n",
      "Thanks for waiting\n"
     ]
    }
   ],
   "source": [
    "# Adding arguments to function.\n",
    "def sayGreeting(name):\n",
    "    print(\"Hello {}, welcome to the show.\".format(name))\n",
    "    print(\"Thanks for waiting\")\n",
    "    \n",
    "sayGreeting(\"Peter\")\n",
    "sayGreeting(\"David\")\n",
    "sayGreeting(\"John\")"
   ]
  },
  {
   "cell_type": "code",
   "execution_count": 97,
   "metadata": {},
   "outputs": [
    {
     "name": "stdout",
     "output_type": "stream",
     "text": [
      "The sum is 636\n",
      "The sum is 354\n"
     ]
    }
   ],
   "source": [
    "# Adding multiple argument to function.\n",
    "def findSum(num1,num2):\n",
    "    print(\"The sum is\",num1+num2)\n",
    "\n",
    "    \n",
    "findSum(121,515)\n",
    "findSum(254,100)"
   ]
  },
  {
   "cell_type": "markdown",
   "metadata": {},
   "source": [
    "# Return keyword"
   ]
  },
  {
   "cell_type": "code",
   "execution_count": 5,
   "metadata": {},
   "outputs": [
    {
     "name": "stdout",
     "output_type": "stream",
     "text": [
      "1267650600228229401496703205376\n",
      "4\n"
     ]
    }
   ],
   "source": [
    "# The return is used to give back result.\n",
    "def power(num1,num2):\n",
    "    return num1**num2\n",
    "\n",
    "print(power(2,100))\n",
    "print(power(2,2))"
   ]
  },
  {
   "cell_type": "code",
   "execution_count": null,
   "metadata": {},
   "outputs": [],
   "source": []
  },
  {
   "cell_type": "code",
   "execution_count": null,
   "metadata": {},
   "outputs": [],
   "source": []
  }
 ],
 "metadata": {
  "kernelspec": {
   "display_name": "Python 3.6.6 64-bit",
   "language": "python",
   "name": "python36664bit55ef76e89a7a4ab497db6aec0bf721a3"
  },
  "language_info": {
   "codemirror_mode": {
    "name": "ipython",
    "version": 3
   },
   "file_extension": ".py",
   "mimetype": "text/x-python",
   "name": "python",
   "nbconvert_exporter": "python",
   "pygments_lexer": "ipython3",
   "version": "3.6.6"
  }
 },
 "nbformat": 4,
 "nbformat_minor": 4
}
