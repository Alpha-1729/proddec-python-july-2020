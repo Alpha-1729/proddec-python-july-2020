{
 "cells": [
  {
   "cell_type": "markdown",
   "metadata": {},
   "source": [
    "# PRODDEC PYTHON DAY 9"
   ]
  },
  {
   "cell_type": "markdown",
   "metadata": {},
   "source": [
    "# Resizing an image"
   ]
  },
  {
   "cell_type": "code",
   "execution_count": 2,
   "metadata": {},
   "outputs": [
    {
     "name": "stdout",
     "output_type": "stream",
     "text": [
      "(355, 474, 3)\n"
     ]
    },
    {
     "data": {
      "text/plain": [
       "True"
      ]
     },
     "execution_count": 2,
     "metadata": {},
     "output_type": "execute_result"
    }
   ],
   "source": [
    "import cv2\n",
    "img=cv2.imread(\"parrot.jpg\",1)\n",
    "print(img.shape)\n",
    "\n",
    "# Resizing image to 300x200 pixel.\n",
    "resized_img=cv2.resize(img,(300,200))\n",
    "cv2.imwrite(\"resized_image.jpg\",resized_img)"
   ]
  },
  {
   "cell_type": "markdown",
   "metadata": {},
   "source": [
    "# Image to grey and resize"
   ]
  },
  {
   "cell_type": "code",
   "execution_count": 3,
   "metadata": {},
   "outputs": [
    {
     "name": "stdout",
     "output_type": "stream",
     "text": [
      "[[ 91  57 117 141 203 110 101  58  55  51]\n",
      " [132 190 202 163 122 148 124 126  59  78]\n",
      " [ 66  71  73 136 116 113 170 130  38  65]\n",
      " [ 67 166  91 118 136 121 113  47  93  61]\n",
      " [ 80  46 147 167 117 143 184 101  86 112]\n",
      " [ 44  77 128  84 113 100 110 168  83  90]\n",
      " [104  75  76  73  81  31 114  49 120 171]\n",
      " [117 202  63  60 105 100  96 254 205 141]\n",
      " [166 178  76  60 129 254 237 237 243 141]\n",
      " [122 222 112 253  56  97  32 241 157 137]]\n"
     ]
    }
   ],
   "source": [
    "import cv2\n",
    "img=cv2.imread(\"parrot.jpg\",0)\n",
    "\n",
    "# Resizing image to 10x10 pixel.\n",
    "resized_img=cv2.resize(img,(10,10))\n",
    "cv2.imwrite(\"resized_image_10.jpg\",resized_img)\n",
    "print(resized_img)  # These are pixel values in the grey image."
   ]
  },
  {
   "cell_type": "markdown",
   "metadata": {},
   "source": [
    "# Creating a new image using the list"
   ]
  },
  {
   "cell_type": "code",
   "execution_count": 6,
   "metadata": {},
   "outputs": [
    {
     "data": {
      "text/plain": [
       "True"
      ]
     },
     "execution_count": 6,
     "metadata": {},
     "output_type": "execute_result"
    }
   ],
   "source": [
    "import cv2\n",
    "import numpy as np\n",
    "\n",
    "# This will create a Four.\n",
    "img=[[255, 0,  0,  0, 255],\n",
    "     [255, 0,  0,  0, 255],\n",
    "     [255,255,255,255,255],\n",
    "     [0,   0,  0,  0, 255],\n",
    "     [0,   0,  0,  0, 255]]\n",
    "img=np.array(img)\n",
    "cv2.imwrite(\"4.jpg\",img)"
   ]
  },
  {
   "cell_type": "markdown",
   "metadata": {},
   "source": [
    "<img src=\"4.jpg\" style=\"height:50px;width:50px\">"
   ]
  },
  {
   "cell_type": "markdown",
   "metadata": {},
   "source": [
    "# Creating new image using the numpy"
   ]
  },
  {
   "cell_type": "code",
   "execution_count": 4,
   "metadata": {},
   "outputs": [
    {
     "data": {
      "text/plain": [
       "True"
      ]
     },
     "execution_count": 4,
     "metadata": {},
     "output_type": "execute_result"
    }
   ],
   "source": [
    "import cv2\n",
    "import numpy as np\n",
    "# np.zeros create a list with elements as zero.\n",
    "# Creating a 3D list for pixels in the black image.\n",
    "black_img=np.zeros((512,512,3),np.uint8)  \n",
    "cv2.imwrite(\"black_image.jpg\",black_img)"
   ]
  },
  {
   "cell_type": "markdown",
   "metadata": {},
   "source": [
    "<img src=\"black_image.jpg\" style=\"height:512px;width:512px\">"
   ]
  },
  {
   "cell_type": "markdown",
   "metadata": {},
   "source": [
    "# Drawing the shape on an image"
   ]
  },
  {
   "cell_type": "markdown",
   "metadata": {},
   "source": [
    "## Fonts in Opencv"
   ]
  },
  {
   "cell_type": "code",
   "execution_count": null,
   "metadata": {},
   "outputs": [],
   "source": [
    "\"\"\"\n",
    "cv2.FONT_HERSHEY_SIMPLEX \n",
    "cv2.FONT_HERSHEY_PLAIN \n",
    "cv2.FONT_HERSHEY_DUPLEX \n",
    "cv2.FONT_HERSHEY_COMPLEX \n",
    "cv2.FONT_HERSHEY_TRIPLEX \n",
    "cv2.FONT_HERSHEY_COMPLEX_SMALL \n",
    "cv2.FONT_HERSHEY_SCRIPT_SIMPLEX \n",
    "cv2.FONT_HERSHEY_SCRIPT_COMPLEX\n",
    "\"\"\""
   ]
  },
  {
   "cell_type": "markdown",
   "metadata": {},
   "source": [
    "## Drawing line on the image"
   ]
  },
  {
   "cell_type": "code",
   "execution_count": 8,
   "metadata": {},
   "outputs": [
    {
     "data": {
      "text/plain": [
       "True"
      ]
     },
     "execution_count": 8,
     "metadata": {},
     "output_type": "execute_result"
    }
   ],
   "source": [
    "\"\"\"\n",
    "In opencv coordinate system starts from top left\n",
    "Top-Left is (0,0)\n",
    "X->Moving-Right\n",
    "Y->Moving-Down\n",
    "\"\"\"\n",
    "import cv2\n",
    "import numpy as np\n",
    "img=np.zeros((512,512,3),np.uint8)\n",
    "# Arguments-> img,starting-coordinate,ending-coordinate,color,thickness\n",
    "cv2.line(img,(0,0),(511,511),(0,255,0),3)\n",
    "cv2.line(img,(511,0),(0,511),(0,0,255),3)\n",
    "cv2.imshow(\"line\",img)\n",
    "cv2.waitKey(0)\n",
    "cv2.destroyWindow(\"line\")\n",
    "cv2.imwrite(\"lines.jpg\",img)"
   ]
  },
  {
   "cell_type": "markdown",
   "metadata": {},
   "source": [
    "<img src=\"lines.jpg\" style=\"height:512px;width:512px\">"
   ]
  },
  {
   "cell_type": "markdown",
   "metadata": {},
   "source": [
    "## Drawing rectangle on the image"
   ]
  },
  {
   "cell_type": "code",
   "execution_count": 12,
   "metadata": {},
   "outputs": [
    {
     "data": {
      "text/plain": [
       "True"
      ]
     },
     "execution_count": 12,
     "metadata": {},
     "output_type": "execute_result"
    }
   ],
   "source": [
    "import cv2\n",
    "import numpy as np\n",
    "img=np.zeros((512,512,3),np.uint8)\n",
    "# Arguments: \n",
    "# img,top-left-coordinate,bottom-below-coordinate,color,thickness/fill(-1)\n",
    "cv2.rectangle(img,(100,100),(400,400),(0,255,0),3)\n",
    "cv2.rectangle(img,(150,150),(350,350),(0,255,255),3)\n",
    "cv2.imshow(\"rectangle\",img)\n",
    "cv2.waitKey(0)\n",
    "cv2.destroyWindow(\"rectangle\")\n",
    "cv2.imwrite(\"rectangle.jpg\",img)"
   ]
  },
  {
   "cell_type": "markdown",
   "metadata": {},
   "source": [
    "<img src=\"rectangle.jpg\" style=\"height:512px;width:512px\">"
   ]
  },
  {
   "cell_type": "markdown",
   "metadata": {},
   "source": [
    "## Drawing circle on image"
   ]
  },
  {
   "cell_type": "code",
   "execution_count": 17,
   "metadata": {},
   "outputs": [
    {
     "data": {
      "text/plain": [
       "True"
      ]
     },
     "execution_count": 17,
     "metadata": {},
     "output_type": "execute_result"
    }
   ],
   "source": [
    "import cv2\n",
    "import numpy as np\n",
    "img=np.zeros((512,512,3),np.uint8)\n",
    "# Arguments-> img,center-coordinate,radius,color,thickness/fill(-1)\n",
    "cv2.circle(img,(256,256),100,(0,255,0),-1)\n",
    "cv2.circle(img,(256,256),200,(0,255,255),3)\n",
    "cv2.imshow(\"circle\",img)\n",
    "cv2.waitKey(0)\n",
    "cv2.destroyWindow(\"circle\")\n",
    "cv2.imwrite(\"circle.jpg\",img)"
   ]
  },
  {
   "cell_type": "markdown",
   "metadata": {},
   "source": [
    "<img src=\"circle.jpg\" style=\"height:512px;width:512px\">"
   ]
  },
  {
   "cell_type": "markdown",
   "metadata": {},
   "source": [
    "## Drawing text on the image"
   ]
  },
  {
   "cell_type": "code",
   "execution_count": 27,
   "metadata": {},
   "outputs": [
    {
     "data": {
      "text/plain": [
       "True"
      ]
     },
     "execution_count": 27,
     "metadata": {},
     "output_type": "execute_result"
    }
   ],
   "source": [
    "import cv2\n",
    "import numpy as np\n",
    "img=np.zeros((512,512,3),np.uint8)\n",
    "text=\"PRODDEC-CEC\"\n",
    "# Arguments-> img,text,location,font,font-size,color,thicknes\n",
    "cv2.putText(img,text,(10,250),cv2.FONT_HERSHEY_SIMPLEX,2,(255,0,255),5)\n",
    "cv2.imshow(\"text\",img)\n",
    "cv2.waitKey(0)\n",
    "cv2.destroyWindow(\"text\")\n",
    "cv2.imwrite(\"text.jpg\",img)"
   ]
  },
  {
   "cell_type": "markdown",
   "metadata": {},
   "source": [
    "<img src=\"text.jpg\" style=\"height:512px;width:512px\">"
   ]
  },
  {
   "cell_type": "markdown",
   "metadata": {},
   "source": [
    "# Creating patterns"
   ]
  },
  {
   "cell_type": "markdown",
   "metadata": {},
   "source": [
    "## Example 1"
   ]
  },
  {
   "cell_type": "code",
   "execution_count": 4,
   "metadata": {},
   "outputs": [],
   "source": [
    "import cv2\n",
    "import numpy as np\n",
    "\n",
    "img=np.zeros((600,600,3),np.uint8)\n",
    "for i in range(20,600,40):\n",
    "    for j in range(20,600,40):\n",
    "        cv2.circle(img,(i,j),20,(0,255,0),1)\n",
    "\n",
    "cv2.imwrite(\"pattern-1.jpg\",img)\n",
    "cv2.imshow(\"pattern-1\",img)\n",
    "cv2.waitKey(0)\n",
    "cv2.destroyWindow(\"pattern-1\")"
   ]
  },
  {
   "cell_type": "markdown",
   "metadata": {},
   "source": [
    "<img src=\"pattern-1.jpg\" style=\"height:512px;width:512px\">"
   ]
  },
  {
   "cell_type": "markdown",
   "metadata": {},
   "source": [
    "## Example 2"
   ]
  },
  {
   "cell_type": "code",
   "execution_count": 6,
   "metadata": {},
   "outputs": [],
   "source": [
    "import cv2\n",
    "import numpy as np\n",
    "\n",
    "img=np.zeros((600,600,3),np.uint8)\n",
    "for i in range(20,600,40):\n",
    "    for j in range(20,600,40):\n",
    "        cv2.circle(img,(i,j),20,(0,0,255),-1)\n",
    "\n",
    "cv2.imwrite(\"pattern-2.jpg\",img)\n",
    "cv2.imshow(\"pattern-2\",img)\n",
    "cv2.waitKey(0)\n",
    "cv2.destroyWindow(\"pattern-2\")"
   ]
  },
  {
   "cell_type": "markdown",
   "metadata": {},
   "source": [
    "<img src=\"pattern-2.jpg\" style=\"height:512px;width:512px\">"
   ]
  },
  {
   "cell_type": "markdown",
   "metadata": {},
   "source": [
    "## Example 3"
   ]
  },
  {
   "cell_type": "code",
   "execution_count": 33,
   "metadata": {},
   "outputs": [],
   "source": [
    "# Code for creating number (1-100) inside images\n",
    "import cv2,os\n",
    "import numpy as np\n",
    "\n",
    "for i in range(1,101):\n",
    "    img=np.zeros((500,500,3),np.uint8)\n",
    "    text=str(i).zfill(3)\n",
    "    cv2.putText(img,text,(150,280),cv2.FONT_HERSHEY_SIMPLEX,4,(0,255,0),15)\n",
    "    cv2.imwrite(\".\\\\images\\\\{}.jpg\".format(text),img)\n",
    "    cv2.imshow(\"pattern-3\",img)\n",
    "    cv2.waitKey(10)\n",
    "    cv2.destroyWindow(\"pattern-3\")"
   ]
  },
  {
   "cell_type": "markdown",
   "metadata": {},
   "source": [
    "<img src=\"pattern-3.jpg\" style=\"height:512px;width:512px\">"
   ]
  },
  {
   "cell_type": "markdown",
   "metadata": {},
   "source": [
    "# Getting frames from video"
   ]
  },
  {
   "cell_type": "code",
   "execution_count": 2,
   "metadata": {},
   "outputs": [],
   "source": [
    "import cv2\n",
    "video_name=\"video.mp4\"\n",
    "\n",
    "# Creating video capture object.\n",
    "cap=cv2.VideoCapture(video_name)\n",
    "\n",
    "if cap.isOpened()==False:\n",
    "    print(\"Error reading video\")\n",
    "    \n",
    "while(cap.isOpened()):  # Trying for reading frame.\n",
    "    ret,img=cap.read()  # Reading the frame\n",
    "    if ret==True:\n",
    "        grey = cv2.cvtColor(img, cv2.COLOR_BGR2GRAY) # Converting to grey.\n",
    "        cv2.imshow(\"Videoo frame\",img)\n",
    "        key=cv2.waitKey(1)\n",
    "        if key==100:  # Press d button for stop playing video.\n",
    "            break\n",
    "    else:\n",
    "        break\n",
    "\n",
    "cap.release()  # Releasing the frame.\n",
    "cv2.destroyAllWindows()\n"
   ]
  },
  {
   "cell_type": "markdown",
   "metadata": {},
   "source": [
    "# Getting a image from a webcam"
   ]
  },
  {
   "cell_type": "code",
   "execution_count": 7,
   "metadata": {},
   "outputs": [],
   "source": [
    "import cv2\n",
    "# Video capture object\n",
    "cap=cv2.VideoCapture(0)\n",
    "if cap.isOpened()==False:\n",
    "    print(\"Error reading frame\")\n",
    "ret,img=cap.read()\n",
    "cv2.imwrite(\"webcam_img.jpg\",img)\n",
    "cap.release()"
   ]
  },
  {
   "cell_type": "markdown",
   "metadata": {},
   "source": [
    "# Getting frames from Webcam/USB-camera"
   ]
  },
  {
   "cell_type": "code",
   "execution_count": null,
   "metadata": {},
   "outputs": [],
   "source": [
    "import cv2\n",
    "video_name=\"video.mp4\"\n",
    "\n",
    "# Creating video capture object.\n",
    "cap=cv2.VideoCapture(0)  # 0->primary camera 1->secondary camera\n",
    "\n",
    "if cap.isOpened()==False:\n",
    "    print(\"Error reading video\")\n",
    "    \n",
    "while(cap.isOpened()):  # Trying for reading frame.\n",
    "    ret,img=cap.read()  # Reading the frame\n",
    "    if ret==True:\n",
    "        grey = cv2.cvtColor(img, cv2.COLOR_BGR2GRAY) # Converting to grey.\n",
    "        cv2.imshow(\"Videoo frame\",img)\n",
    "        key=cv2.waitKey(1)\n",
    "        if key==100:  # Press d button for stop playing video.\n",
    "            break\n",
    "    else:\n",
    "        break\n",
    "\n",
    "cap.release()  # Releasing the frame.\n",
    "cv2.destroyAllWindows()"
   ]
  },
  {
   "cell_type": "code",
   "execution_count": null,
   "metadata": {},
   "outputs": [],
   "source": []
  }
 ],
 "metadata": {
  "kernelspec": {
   "display_name": "Python 3.6.6 64-bit",
   "language": "python",
   "name": "python36664bit55ef76e89a7a4ab497db6aec0bf721a3"
  },
  "language_info": {
   "codemirror_mode": {
    "name": "ipython",
    "version": 3
   },
   "file_extension": ".py",
   "mimetype": "text/x-python",
   "name": "python",
   "nbconvert_exporter": "python",
   "pygments_lexer": "ipython3",
   "version": "3.6.6"
  }
 },
 "nbformat": 4,
 "nbformat_minor": 4
}
