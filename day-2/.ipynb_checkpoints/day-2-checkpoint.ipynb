{
 "cells": [
  {
   "cell_type": "markdown",
   "metadata": {},
   "source": [
    "# PRODDEC PYTHON DAY 2"
   ]
  },
  {
   "cell_type": "markdown",
   "metadata": {},
   "source": [
    "# Using python shell in command prompt."
   ]
  },
  {
   "cell_type": "code",
   "execution_count": null,
   "metadata": {},
   "outputs": [],
   "source": [
    "# python  -> windows\n",
    "# python3 -> Linux and Mac\n",
    "# OR\n",
    "# python2 -> LInux and Mac"
   ]
  },
  {
   "cell_type": "markdown",
   "metadata": {},
   "source": [
    "# Run python file in command prompt (windows)"
   ]
  },
  {
   "cell_type": "code",
   "execution_count": null,
   "metadata": {},
   "outputs": [],
   "source": [
    " # python your_python_file_name.py"
   ]
  },
  {
   "cell_type": "markdown",
   "metadata": {},
   "source": [
    "# For using linux online"
   ]
  },
  {
   "cell_type": "code",
   "execution_count": null,
   "metadata": {},
   "outputs": [],
   "source": [
    "# Go to https://bellard.org/jslinux/\n",
    "# select Alpine Linux 3.12.0 -> click here"
   ]
  },
  {
   "cell_type": "markdown",
   "metadata": {},
   "source": [
    "# Running python on Android"
   ]
  },
  {
   "cell_type": "code",
   "execution_count": null,
   "metadata": {},
   "outputs": [],
   "source": [
    "# Download and install Pydroid 3 from playstore."
   ]
  },
  {
   "cell_type": "markdown",
   "metadata": {},
   "source": [
    "# For using python without installation"
   ]
  },
  {
   "cell_type": "code",
   "execution_count": null,
   "metadata": {},
   "outputs": [],
   "source": [
    "# Use https://www.onlinegdb.com \n",
    "# Use Desktop mode if using in android.\n",
    "# Select the language as python3.\n",
    "# Use run button to run the program.\n",
    "# Use the share option to share the code."
   ]
  },
  {
   "cell_type": "markdown",
   "metadata": {},
   "source": [
    "# Using the comments in the program"
   ]
  },
  {
   "cell_type": "code",
   "execution_count": null,
   "metadata": {},
   "outputs": [],
   "source": [
    "# Comments are used for readability of the code.\n",
    "# Two type of comments are used in python.\n",
    "#   Single line comment\n",
    "#   Multiline comment"
   ]
  },
  {
   "cell_type": "markdown",
   "metadata": {},
   "source": [
    "## Single line comment"
   ]
  },
  {
   "cell_type": "code",
   "execution_count": 1,
   "metadata": {},
   "outputs": [
    {
     "name": "stdout",
     "output_type": "stream",
     "text": [
      "My name is peter\n",
      "My age is 50\n"
     ]
    }
   ],
   "source": [
    "# This is my code.\n",
    "# If you change this code, You will destroy your computer.\n",
    "\n",
    "print(\"My name is peter\") \n",
    "print(\"My age is 50\") # This is not my actual age\n",
    "\n",
    "name=22121 # Please use a decent name for your variable like num1"
   ]
  },
  {
   "cell_type": "markdown",
   "metadata": {},
   "source": [
    "## Multiline comment"
   ]
  },
  {
   "cell_type": "code",
   "execution_count": null,
   "metadata": {},
   "outputs": [],
   "source": [
    "\"\"\"\n",
    "Author: Peter davidson\n",
    "Date: 12/21/2050\n",
    "If you have any doubt, clear by yourself.\n",
    "Dont change the variables name used below.\n",
    "Below are the examples of the bool datatype.\n",
    "Please check this link :https://www.python.org\n",
    "\"\"\"\n",
    "doYouUnderStand=True \n",
    "isCoffeeAvailable=False"
   ]
  },
  {
   "cell_type": "markdown",
   "metadata": {},
   "source": [
    "# Use of comments"
   ]
  },
  {
   "cell_type": "code",
   "execution_count": 3,
   "metadata": {},
   "outputs": [
    {
     "name": "stdout",
     "output_type": "stream",
     "text": [
      "1 12 23 1212\n"
     ]
    }
   ],
   "source": [
    "# For comment out a python code\n",
    "# print(\"Hello World\")\n",
    "\n",
    "# Adding small description in code\n",
    "print(1,12,23,1212) # example of multiple argument in print()\n",
    "\n",
    "# For understanding code by others and by ourself.\n",
    "# You can run some portion of the code with help of comment.\n",
    "# For adding large details -> use multiline comment."
   ]
  },
  {
   "cell_type": "markdown",
   "metadata": {},
   "source": [
    "# Shebang line"
   ]
  },
  {
   "cell_type": "code",
   "execution_count": null,
   "metadata": {},
   "outputs": [],
   "source": [
    "#!usr/bin/python3\n",
    "\n",
    "# If you run this file (your python file) in linux/mac without using the python.\n",
    "# It will be run by the python3 interpreter in this path."
   ]
  },
  {
   "cell_type": "markdown",
   "metadata": {},
   "source": [
    "# Variables"
   ]
  },
  {
   "cell_type": "code",
   "execution_count": null,
   "metadata": {},
   "outputs": [],
   "source": [
    "\"\"\"\n",
    "Variables are used to store information to be referenced and manipulated in a computer program. \n",
    "They also provide a way of labeling data with a descriptive name,\n",
    "so our programs can be understood more clearly by the reader and ourselves.\n",
    "It is helpful to think of variables as containers that hold information.\n",
    "Their sole purpose is to label and store data in memory.\n",
    "This data can then be used throughout your program.\n",
    "\"\"\"\n"
   ]
  },
  {
   "cell_type": "markdown",
   "metadata": {},
   "source": [
    "# Operations using variables"
   ]
  },
  {
   "cell_type": "code",
   "execution_count": 13,
   "metadata": {},
   "outputs": [
    {
     "name": "stdout",
     "output_type": "stream",
     "text": [
      "<class 'int'>\n",
      "51533672\n",
      "4240.105423421941\n",
      "@@@@@@@@@@\n",
      "$$$$$$$$$$\n"
     ]
    }
   ],
   "source": [
    "num1=12151\n",
    "num2=51521521\n",
    "\n",
    "# Print the type of data in the variables.\n",
    "print(type(num1))\n",
    "\n",
    "# Arithmetic operation\n",
    "print(num1 + num2)\n",
    "print(num2 / num1)\n",
    "\n",
    "print(\"@\"*10)  # Multiplication using the string\n",
    "\n",
    "my_symbol=\"$\"\n",
    "print(my_symbol*10) # Multiplication using the string"
   ]
  },
  {
   "cell_type": "markdown",
   "metadata": {},
   "source": [
    "## Type Error"
   ]
  },
  {
   "cell_type": "code",
   "execution_count": 15,
   "metadata": {},
   "outputs": [
    {
     "name": "stdout",
     "output_type": "stream",
     "text": [
      "peter21151\n"
     ]
    },
    {
     "ename": "TypeError",
     "evalue": "must be str, not int",
     "output_type": "error",
     "traceback": [
      "\u001b[1;31m---------------------------------------------------------------------------\u001b[0m",
      "\u001b[1;31mTypeError\u001b[0m                                 Traceback (most recent call last)",
      "\u001b[1;32m<ipython-input-15-d9ac81d144b7>\u001b[0m in \u001b[0;36m<module>\u001b[1;34m\u001b[0m\n\u001b[0;32m      2\u001b[0m \u001b[0mnum\u001b[0m\u001b[1;33m=\u001b[0m\u001b[1;36m21151\u001b[0m\u001b[1;33m\u001b[0m\u001b[0m\n\u001b[0;32m      3\u001b[0m \u001b[0mprint\u001b[0m\u001b[1;33m(\u001b[0m\u001b[0mname\u001b[0m\u001b[1;33m+\u001b[0m\u001b[0mstr\u001b[0m\u001b[1;33m(\u001b[0m\u001b[0mnum\u001b[0m\u001b[1;33m)\u001b[0m\u001b[1;33m)\u001b[0m\u001b[1;33m\u001b[0m\u001b[0m\n\u001b[1;32m----> 4\u001b[1;33m \u001b[0mprint\u001b[0m\u001b[1;33m(\u001b[0m\u001b[0mname\u001b[0m\u001b[1;33m+\u001b[0m\u001b[0mnum\u001b[0m\u001b[1;33m)\u001b[0m\u001b[1;33m\u001b[0m\u001b[0m\n\u001b[0m",
      "\u001b[1;31mTypeError\u001b[0m: must be str, not int"
     ]
    }
   ],
   "source": [
    "name=\"peter\"\n",
    "num=21151\n",
    "print(name+str(num))  # This line works\n",
    "print(name+num) # This line cause error"
   ]
  },
  {
   "cell_type": "markdown",
   "metadata": {},
   "source": [
    "## String Concatenation (Joining String)"
   ]
  },
  {
   "cell_type": "code",
   "execution_count": 17,
   "metadata": {},
   "outputs": [
    {
     "name": "stdout",
     "output_type": "stream",
     "text": [
      "Peter David\n"
     ]
    }
   ],
   "source": [
    "first_name=\"Peter\"\n",
    "last_name=\"David\"\n",
    "\n",
    "# String concatenation\n",
    "full_name=first_name + \" \" +last_name\n",
    "\n",
    "print(full_name)"
   ]
  },
  {
   "cell_type": "markdown",
   "metadata": {},
   "source": [
    "# Convention for naming a variable"
   ]
  },
  {
   "cell_type": "code",
   "execution_count": 1,
   "metadata": {},
   "outputs": [],
   "source": [
    "# Name should be related to the type and value in the variable.\n",
    "my_college = \"CEC\"\n",
    "\n",
    "# Dont use space in the varible name.\n",
    "# my name =\"Peter\"   -> cause an error.\n",
    "\n",
    "# Two words in the variable should be separated by _\n",
    "my_age=52\n",
    "\n",
    "# Use camel casing\n",
    "myLaptop=\"Dell Laptop\"\n",
    "\n",
    "# Use pascal casing\n",
    "MeraWatch=\"Sonata\"    # All starting letter, capital\n",
    "\n",
    "# Variable name should not start with number\n",
    "# 2name=\"Peter and David\"   -> cause error\n",
    "\n",
    "# Variables name can start with _\n",
    "_name=\"Haris\"\n",
    "\n",
    "# Avoid using \"function in python\" for variable name\n",
    "min=\"Dont use it, it is terrible!!!\"\n",
    "\n",
    "\n"
   ]
  },
  {
   "cell_type": "markdown",
   "metadata": {},
   "source": [
    "# Declaring variables"
   ]
  },
  {
   "cell_type": "code",
   "execution_count": 23,
   "metadata": {},
   "outputs": [
    {
     "name": "stdout",
     "output_type": "stream",
     "text": [
      "12145 5115 5151\n",
      "0477 0481 0488\n",
      "idli dosa chutney\n",
      "Btech Btech Btech\n"
     ]
    }
   ],
   "source": [
    "num1=12145\n",
    "num2=5115\n",
    "num3=5151\n",
    "\n",
    "print(num1,num2,num3)\n",
    "\n",
    "# Declaring variables in single line using ;\n",
    "phone1=\"0477\"; phone2=\"0481\"; phone3=\"0488\"\n",
    "print(phone1,phone2,phone3)\n",
    "\n",
    "# Multiple declaration in single line\n",
    "food1,food2,food3=\"idli\",\"dosa\",\"chutney\"\n",
    "print(food1,food2,food3)\n",
    "\n",
    "\n",
    "# Adding same value to all variables\n",
    "student1=student2=student3=\"Btech\"\n",
    "print(student1,student2,student3)"
   ]
  },
  {
   "cell_type": "markdown",
   "metadata": {},
   "source": [
    "# Getting user input"
   ]
  },
  {
   "cell_type": "code",
   "execution_count": 2,
   "metadata": {},
   "outputs": [
    {
     "name": "stdout",
     "output_type": "stream",
     "text": [
      "Enter your name: \n",
      "Peter\n",
      "Hello Peter , How may i help you?\n"
     ]
    }
   ],
   "source": [
    "print(\"Enter your name: \")\n",
    "name=input()\n",
    "print(\"Hello\",name,\", How may i help you?\")"
   ]
  },
  {
   "cell_type": "code",
   "execution_count": 7,
   "metadata": {},
   "outputs": [
    {
     "name": "stdout",
     "output_type": "stream",
     "text": [
      "Enter your age: 56\n",
      "Hey old! Your age is 56\n"
     ]
    }
   ],
   "source": [
    "age=input(\"Enter your age: \")\n",
    "print(\"Hey old!\",\"Your age is\",age)"
   ]
  },
  {
   "cell_type": "markdown",
   "metadata": {},
   "source": [
    "## Using int() function in input()"
   ]
  },
  {
   "cell_type": "code",
   "execution_count": 9,
   "metadata": {
    "scrolled": true
   },
   "outputs": [
    {
     "name": "stdout",
     "output_type": "stream",
     "text": [
      "Enter your age: 21\n",
      "Enter your name\n",
      "Peter\n",
      "Hey Peter ! Your date of year is 1999\n"
     ]
    }
   ],
   "source": [
    "# Program to print the date of year\n",
    "\n",
    "age=int(input(\"Enter your age: \"))\n",
    "name=input(\"Enter your name\\n\")    # For cursor to next line\n",
    "DateOfYear=2020-age\n",
    "print(\"Hey\",name,\"!\",\"Your date of year is\",DateOfYear)\n"
   ]
  },
  {
   "cell_type": "markdown",
   "metadata": {},
   "source": [
    "# Datatypes"
   ]
  },
  {
   "cell_type": "code",
   "execution_count": 29,
   "metadata": {},
   "outputs": [
    {
     "name": "stdout",
     "output_type": "stream",
     "text": [
      "<class 'bool'>\n"
     ]
    }
   ],
   "source": [
    "# Data that can be stored in a variable is of different types.\n",
    "# These are called datatype.\n",
    "# eg: str,int,bool\n",
    "\n",
    "# Printing the data type of True\n",
    "value=True\n",
    "print(type(value))"
   ]
  },
  {
   "cell_type": "markdown",
   "metadata": {},
   "source": [
    "# Comaprison operator"
   ]
  },
  {
   "cell_type": "code",
   "execution_count": 10,
   "metadata": {},
   "outputs": [
    {
     "name": "stdout",
     "output_type": "stream",
     "text": [
      "False\n",
      "False\n",
      "True\n",
      "True\n",
      "False\n",
      "True\n"
     ]
    }
   ],
   "source": [
    "# Output of a comparison operator will be always bool datatype (True or False)\n",
    "print(12>32213)\n",
    "print(323<44)\n",
    "print(len(\"peter\") >= len(\"Haris\"))\n",
    "print(165<=4324)\n",
    "print(\"Peter\"==\"peter\")\n",
    "print(\"teacher\" != \"student\")"
   ]
  },
  {
   "cell_type": "markdown",
   "metadata": {},
   "source": [
    "# bool datatype"
   ]
  },
  {
   "cell_type": "code",
   "execution_count": 13,
   "metadata": {},
   "outputs": [
    {
     "name": "stdout",
     "output_type": "stream",
     "text": [
      "True\n",
      "False\n"
     ]
    }
   ],
   "source": [
    "# Only two type -> True or False\n",
    "print(True) # These are not string\n",
    "print(False) # These are another type of data."
   ]
  },
  {
   "cell_type": "markdown",
   "metadata": {},
   "source": [
    "# Decision making statement"
   ]
  },
  {
   "cell_type": "markdown",
   "metadata": {},
   "source": [
    "## if statement"
   ]
  },
  {
   "cell_type": "code",
   "execution_count": 18,
   "metadata": {},
   "outputs": [
    {
     "name": "stdout",
     "output_type": "stream",
     "text": [
      "Enter your age: 70\n",
      "Hey you are older\n"
     ]
    }
   ],
   "source": [
    "age=int(input(\"Enter your age: \"))\n",
    "if age>60:\n",
    "    print(\"Hey you are older\")"
   ]
  },
  {
   "cell_type": "markdown",
   "metadata": {},
   "source": [
    "## if else statement"
   ]
  },
  {
   "cell_type": "code",
   "execution_count": 17,
   "metadata": {},
   "outputs": [
    {
     "name": "stdout",
     "output_type": "stream",
     "text": [
      "Enter your age: 12\n",
      "You are a baby!\n"
     ]
    }
   ],
   "source": [
    "age=int(input(\"Enter your age: \"))\n",
    "if age>60:\n",
    "    print(\"Hey you are older\")\n",
    "else:\n",
    "    print(\"You are a baby!\")"
   ]
  },
  {
   "cell_type": "markdown",
   "metadata": {},
   "source": [
    "## if else elif statment"
   ]
  },
  {
   "cell_type": "code",
   "execution_count": 16,
   "metadata": {},
   "outputs": [
    {
     "name": "stdout",
     "output_type": "stream",
     "text": [
      "Enter your age: 30\n",
      "You are not old\n"
     ]
    }
   ],
   "source": [
    "age=int(input(\"Enter your age: \"))\n",
    "if age>60:\n",
    "    print(\"Hey you are older\")\n",
    "elif 18<age<=60:\n",
    "    print(\"You are not old\")\n",
    "else:\n",
    "    print(\"You are a baby!\")"
   ]
  },
  {
   "cell_type": "markdown",
   "metadata": {},
   "source": [
    "# nested if statement"
   ]
  },
  {
   "cell_type": "code",
   "execution_count": 30,
   "metadata": {},
   "outputs": [
    {
     "name": "stdout",
     "output_type": "stream",
     "text": [
      "you are hari and your age is 12\n",
      "Good to see you\n"
     ]
    }
   ],
   "source": [
    "# if inside if -> nested if\n",
    "name=\"hari\"\n",
    "age=12\n",
    "if name==\"hari\":\n",
    "    if age==12:\n",
    "        print(\"you are hari and your age is 12\")\n",
    "        print(\"Good to see you\")\n",
    "    else:\n",
    "        print(\"you are hari but age is not 12\")\n",
    "else:\n",
    "    print(\"You are not hari\")"
   ]
  },
  {
   "cell_type": "markdown",
   "metadata": {},
   "source": [
    "# Online Visualization tool for python"
   ]
  },
  {
   "cell_type": "code",
   "execution_count": null,
   "metadata": {},
   "outputs": [],
   "source": [
    "# visit this website ->http://pythontutor.com/visualize.html"
   ]
  },
  {
   "cell_type": "code",
   "execution_count": null,
   "metadata": {},
   "outputs": [],
   "source": []
  }
 ],
 "metadata": {
  "kernelspec": {
   "display_name": "Python 3.6.6 64-bit",
   "language": "python",
   "name": "python36664bit55ef76e89a7a4ab497db6aec0bf721a3"
  },
  "language_info": {
   "codemirror_mode": {
    "name": "ipython",
    "version": 3
   },
   "file_extension": ".py",
   "mimetype": "text/x-python",
   "name": "python",
   "nbconvert_exporter": "python",
   "pygments_lexer": "ipython3",
   "version": "3.6.6"
  }
 },
 "nbformat": 4,
 "nbformat_minor": 4
}
